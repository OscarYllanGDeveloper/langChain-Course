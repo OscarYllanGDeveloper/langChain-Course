{
 "cells": [
  {
   "cell_type": "markdown",
   "id": "1c82e9b2-2a32-480a-a04a-6b438319c13b",
   "metadata": {},
   "source": [
    "## Llama LangChain - Chatear con un PDF cargado"
   ]
  },
  {
   "cell_type": "markdown",
   "id": "03586d57-8eb6-4ea5-8c79-8ba9cb47bdc2",
   "metadata": {},
   "source": [
    "Para poder usar este script es necesario instalar ollama y abrirlo en la terminal\n",
    "\n",
    "- Link para descargar Ollama: https://ollama.com/download\n",
    "- Link para correrlo: https://github.com/ollama/ollama\n",
    "\n",
    "- Codigo Oscar Yllan G\n",
    "- GitHub: https://github.com/oscaryllangdeveloper"
   ]
  },
  {
   "cell_type": "code",
   "execution_count": 8,
   "id": "133c10de-44a7-4aa1-84bf-9990bdaf5a73",
   "metadata": {},
   "outputs": [],
   "source": [
    "!pip install ollama -q"
   ]
  },
  {
   "cell_type": "code",
   "execution_count": 9,
   "id": "37e47900-fec7-4f26-85c3-5cc764900236",
   "metadata": {},
   "outputs": [],
   "source": [
    "import ollama"
   ]
  },
  {
   "cell_type": "code",
   "execution_count": 10,
   "id": "a5f0b131-e5a1-4c23-a9ee-73bf6ed41a78",
   "metadata": {},
   "outputs": [],
   "source": [
    "from langchain_community.llms import Ollama"
   ]
  },
  {
   "cell_type": "code",
   "execution_count": 14,
   "id": "864c45b1-8e76-4ebd-8dc3-1dc843d69bc2",
   "metadata": {},
   "outputs": [],
   "source": [
    "llm = Ollama(model=\"llama3.1\", temperature=0.2)"
   ]
  },
  {
   "cell_type": "code",
   "execution_count": 15,
   "id": "13072bac-b53c-48d2-898c-3222e89c0a1d",
   "metadata": {},
   "outputs": [],
   "source": [
    "respuesta = llm.invoke(\"Necesito que me des un código de python que me de funciones imortantes en finanzas\")"
   ]
  },
  {
   "cell_type": "code",
   "execution_count": 16,
   "id": "aa7267cc-0faf-4263-a37b-5b0854c8d9e9",
   "metadata": {},
   "outputs": [
    {
     "name": "stdout",
     "output_type": "stream",
     "text": [
      "Aquí te presento algunas funciones importantes en finanzas que puedes implementar en Python:\n",
      "\n",
      "**1. Cálculo del interés compuesto**\n",
      "\n",
      "```python\n",
      "def interes_compuesto(principal, tasa_interes, tiempo):\n",
      "    \"\"\"\n",
      "    Calcula el monto final después de aplicar un interés compuesto.\n",
      "\n",
      "    Args:\n",
      "        principal (float): El monto inicial.\n",
      "        tasa_interes (float): La tasa de interés anual.\n",
      "        tiempo (int): El número de años.\n",
      "\n",
      "    Returns:\n",
      "        float: El monto final.\n",
      "    \"\"\"\n",
      "    return principal * (1 + tasa_interes / 100) ** tiempo\n",
      "```\n",
      "\n",
      "**2. Cálculo del valor presente**\n",
      "\n",
      "```python\n",
      "def valor_presente(monto_futuro, tasa_interes, tiempo):\n",
      "    \"\"\"\n",
      "    Calcula el valor presente de un monto futuro.\n",
      "\n",
      "    Args:\n",
      "        monto_futuro (float): El monto que se espera recibir en el futuro.\n",
      "        tasa_interes (float): La tasa de interés anual.\n",
      "        tiempo (int): El número de años.\n",
      "\n",
      "    Returns:\n",
      "        float: El valor presente.\n",
      "    \"\"\"\n",
      "    return monto_futuro / (1 + tasa_interes / 100) ** tiempo\n",
      "```\n",
      "\n",
      "**3. Cálculo del rendimiento de una inversión**\n",
      "\n",
      "```python\n",
      "def rendimiento_inversion(monto_invertido, monto_recuperado):\n",
      "    \"\"\"\n",
      "    Calcula el rendimiento de una inversión.\n",
      "\n",
      "    Args:\n",
      "        monto_invertido (float): El monto invertido.\n",
      "        monto_recuperado (float): El monto recuperado.\n",
      "\n",
      "    Returns:\n",
      "        float: El rendimiento de la inversión en porcentaje.\n",
      "    \"\"\"\n",
      "    return ((monto_recuperado - monto_invertido) / monto_invertido) * 100\n",
      "```\n",
      "\n",
      "**4. Cálculo del plazo para pagar una deuda**\n",
      "\n",
      "```python\n",
      "def plazo_deuda(monto_deuda, cuota_mensual):\n",
      "    \"\"\"\n",
      "    Calcula el número de meses necesarios para pagar una deuda.\n",
      "\n",
      "    Args:\n",
      "        monto_deuda (float): El monto de la deuda.\n",
      "        cuota_mensual (float): La cuota mensual.\n",
      "\n",
      "    Returns:\n",
      "        int: El número de meses necesarios para pagar la deuda.\n",
      "    \"\"\"\n",
      "    return monto_deuta / cuota_mensual\n",
      "```\n",
      "\n",
      "**5. Cálculo del valor de una opción**\n",
      "\n",
      "```python\n",
      "def valor_opcion(monto_invertido, tasa_interes, tiempo):\n",
      "    \"\"\"\n",
      "    Calcula el valor de una opción.\n",
      "\n",
      "    Args:\n",
      "        monto_invertido (float): El monto invertido.\n",
      "        tasa_interes (float): La tasa de interés anual.\n",
      "        tiempo (int): El número de años.\n",
      "\n",
      "    Returns:\n",
      "        float: El valor de la opción.\n",
      "    \"\"\"\n",
      "    return monto_invertido * (1 + tasa_interes / 100) ** tiempo\n",
      "```\n",
      "\n",
      "Espero que estas funciones te sean útiles. Recuerda que es importante entender el concepto detrás de cada función antes de utilizarla en un contexto real.\n"
     ]
    }
   ],
   "source": [
    "print(respuesta)"
   ]
  },
  {
   "cell_type": "code",
   "execution_count": 17,
   "id": "6985aec7-3626-4783-897b-5c3053ff9115",
   "metadata": {},
   "outputs": [],
   "source": [
    "!pip install pypdf -q"
   ]
  },
  {
   "cell_type": "code",
   "execution_count": 22,
   "id": "a1b073cb-c557-4ae1-8137-c0bc1eddd085",
   "metadata": {},
   "outputs": [],
   "source": [
    "from langchain.text_splitter import CharacterTextSplitter\n",
    "from langchain.document_loaders import PyPDFLoader\n",
    "# Sirve para transformar los embeddings de forma local\n",
    "from langchain_community.vectorstores import Chroma\n",
    "# Hacer los embeddings con Ollama\n",
    "from langchain_community.embeddings import OllamaEmbeddings\n",
    "# Para transformar las respuestas a String\n",
    "from langchain_core.output_parsers import StrOutputParser\n",
    "# Para Ejecutar\n",
    "from langchain_core.runnables import RunnablePassthrough\n",
    "# Leer el PDF\n",
    "from langchain.document_loaders import PyPDFLoader\n",
    "import ollama"
   ]
  },
  {
   "cell_type": "code",
   "execution_count": 23,
   "id": "d507bbc9-2b88-4882-b46e-5bc6396cfe82",
   "metadata": {},
   "outputs": [],
   "source": [
    "loader = PyPDFLoader(\"ch2-FinancialManagerialAccounting.pdf\")\n",
    "paginas = loader.load()"
   ]
  },
  {
   "cell_type": "code",
   "execution_count": 24,
   "id": "9861e037-39f8-42c5-8218-34d2a61ef94c",
   "metadata": {},
   "outputs": [
    {
     "data": {
      "text/plain": [
       "45"
      ]
     },
     "execution_count": 24,
     "metadata": {},
     "output_type": "execute_result"
    }
   ],
   "source": [
    "len(paginas)"
   ]
  },
  {
   "cell_type": "code",
   "execution_count": 25,
   "id": "d72adc31-c048-4a8b-90f0-0baa524e8705",
   "metadata": {},
   "outputs": [
    {
     "name": "stdout",
     "output_type": "stream",
     "text": [
      "4\n",
      "Financial Statements – the \n",
      "Annual Report\n",
      " Management Discussion\n",
      " Auditors Report\n",
      " Consolidated Balance Sheet\n",
      " Consolidated Net Income\n",
      " Consolidated Statement of Stockholders \n",
      "Equity\n",
      " Consolidated Cash Flow Statements\n",
      " Notes to Accounts\n"
     ]
    }
   ],
   "source": [
    "print(paginas[3].page_content)"
   ]
  },
  {
   "cell_type": "code",
   "execution_count": 27,
   "id": "21b84882-9bfd-4529-84e5-201397bd2593",
   "metadata": {},
   "outputs": [],
   "source": [
    "text_splitter = CharacterTextSplitter(\n",
    "    separator= \"\\n\",\n",
    "    chunk_size=250,\n",
    "    chunk_overlap=80,\n",
    "    length_function = len\n",
    ")\n",
    "    "
   ]
  },
  {
   "cell_type": "code",
   "execution_count": 29,
   "id": "3bd88363-b356-4046-8427-137d2d9401f6",
   "metadata": {},
   "outputs": [],
   "source": [
    "docs = text_splitter.split_documents(paginas)"
   ]
  },
  {
   "cell_type": "code",
   "execution_count": 30,
   "id": "6bcc96c7-a857-403e-9207-7948cab8f81e",
   "metadata": {},
   "outputs": [
    {
     "data": {
      "text/plain": [
       "81"
      ]
     },
     "execution_count": 30,
     "metadata": {},
     "output_type": "execute_result"
    }
   ],
   "source": [
    "len(docs)"
   ]
  },
  {
   "cell_type": "code",
   "execution_count": 31,
   "id": "95766f80-c34f-4e80-8009-b748e8bd35c6",
   "metadata": {},
   "outputs": [
    {
     "data": {
      "text/plain": [
       "45"
      ]
     },
     "execution_count": 31,
     "metadata": {},
     "output_type": "execute_result"
    }
   ],
   "source": [
    "len(paginas)"
   ]
  },
  {
   "cell_type": "code",
   "execution_count": 33,
   "id": "c52298fb-8761-4a34-addf-1a03bcc4d9db",
   "metadata": {},
   "outputs": [],
   "source": [
    "embeddings = OllamaEmbeddings(model=\"llama3.1\")\n",
    "vectorstore = Chroma.from_documents(documents= docs, embedding = embeddings)"
   ]
  },
  {
   "cell_type": "code",
   "execution_count": 45,
   "id": "fa8f0f88-4caa-4921-bbe5-eaf4aa8fe73f",
   "metadata": {},
   "outputs": [],
   "source": [
    "def ollama_llm(question,context):\n",
    "    formatted_prompt = f\"Pregunta: {question} \\n\\nContexto (responde solo sobre contenido del texto contexto entregado: {context} \"\n",
    "    response = ollama.chat(model = \"llama3.1\",\n",
    "                            messages = [{'role': 'user', 'content': formatted_prompt}],\n",
    "                            options = {'temperature':0})\n",
    "    return response['message']['content']"
   ]
  },
  {
   "cell_type": "code",
   "execution_count": 46,
   "id": "fe844db5-5cc4-44dd-af75-342703cf3701",
   "metadata": {},
   "outputs": [],
   "source": [
    "retriever = vectorstore.as_retriever()\n",
    "def combine_docs(docs):\n",
    "    return \" \\n\\n\".join(doc.page_content for doc in docs)"
   ]
  },
  {
   "cell_type": "code",
   "execution_count": 47,
   "id": "3f4ef981-9804-45d9-a130-35d6473cf45d",
   "metadata": {},
   "outputs": [],
   "source": [
    "def rag_chain(question):\n",
    "    retrieved_docs = retriever.invoke(question)\n",
    "    formatted_context = combine_docs(retrieved_docs)\n",
    "    return ollama_llm(question,formatted_context)"
   ]
  },
  {
   "cell_type": "code",
   "execution_count": 48,
   "id": "64143d81-d636-458f-a6f8-309747d9b136",
   "metadata": {},
   "outputs": [
    {
     "name": "stdout",
     "output_type": "stream",
     "text": [
      "Según el texto, las liabilities (pasivos) son:\n",
      "\n",
      "* Accounts payable\n",
      "* Wages payable\n",
      "* Interest payable\n",
      "* Income taxes payable\n",
      "* Deferred revenues\n",
      "* Current portion of long-term debts (la parte actual de los deudas a largo plazo).\n"
     ]
    }
   ],
   "source": [
    "result = rag_chain(\"Según el texto que son las liabilities?\" )\n",
    "print(result)"
   ]
  },
  {
   "cell_type": "code",
   "execution_count": null,
   "id": "6da31017-1fd7-42e2-a221-8bdfc6313982",
   "metadata": {},
   "outputs": [],
   "source": []
  },
  {
   "cell_type": "code",
   "execution_count": null,
   "id": "3769ef7c-0ab7-41df-b8a8-2a5636be5d3f",
   "metadata": {},
   "outputs": [],
   "source": []
  },
  {
   "cell_type": "code",
   "execution_count": null,
   "id": "3843b009-e34c-41df-9c1e-3a4d2db108f7",
   "metadata": {},
   "outputs": [],
   "source": []
  },
  {
   "cell_type": "code",
   "execution_count": null,
   "id": "7b4310ae-2f7e-466a-91cc-8c3ea255b76c",
   "metadata": {},
   "outputs": [],
   "source": []
  },
  {
   "cell_type": "code",
   "execution_count": null,
   "id": "f7c2e311-edbc-4187-b478-393a64c0ed58",
   "metadata": {},
   "outputs": [],
   "source": []
  },
  {
   "cell_type": "code",
   "execution_count": null,
   "id": "b72d4830-8a81-4507-b5ce-1081021a1f92",
   "metadata": {},
   "outputs": [],
   "source": []
  },
  {
   "cell_type": "code",
   "execution_count": null,
   "id": "4ea8dd5b-daa9-43e0-9d48-16e40e4a4d78",
   "metadata": {},
   "outputs": [],
   "source": []
  },
  {
   "cell_type": "code",
   "execution_count": null,
   "id": "e9f83751-30ba-4f50-9ea3-0c7242c646a5",
   "metadata": {},
   "outputs": [],
   "source": []
  },
  {
   "cell_type": "code",
   "execution_count": null,
   "id": "475e1f8e-0d46-4911-971e-7551e5a01e1a",
   "metadata": {},
   "outputs": [],
   "source": []
  },
  {
   "cell_type": "code",
   "execution_count": null,
   "id": "176b9706-66a1-4a67-9d6b-4b49248a5396",
   "metadata": {},
   "outputs": [],
   "source": []
  },
  {
   "cell_type": "code",
   "execution_count": null,
   "id": "fc35267d-aa9e-4a4f-8418-ee12a0852345",
   "metadata": {},
   "outputs": [],
   "source": []
  },
  {
   "cell_type": "code",
   "execution_count": null,
   "id": "245e2a42-d8de-4cf1-b995-31e725f1ed57",
   "metadata": {},
   "outputs": [],
   "source": []
  }
 ],
 "metadata": {
  "kernelspec": {
   "display_name": "Python 3 (ipykernel)",
   "language": "python",
   "name": "python3"
  },
  "language_info": {
   "codemirror_mode": {
    "name": "ipython",
    "version": 3
   },
   "file_extension": ".py",
   "mimetype": "text/x-python",
   "name": "python",
   "nbconvert_exporter": "python",
   "pygments_lexer": "ipython3",
   "version": "3.11.7"
  }
 },
 "nbformat": 4,
 "nbformat_minor": 5
}
