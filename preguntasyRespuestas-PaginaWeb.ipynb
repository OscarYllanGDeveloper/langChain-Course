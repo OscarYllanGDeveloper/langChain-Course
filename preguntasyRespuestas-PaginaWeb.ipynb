{
 "cells": [
  {
   "cell_type": "markdown",
   "id": "78c9837f-4f6f-4ef5-8060-b3d410b06525",
   "metadata": {},
   "source": [
    "## Preparar el Entorno"
   ]
  },
  {
   "cell_type": "code",
   "execution_count": 1,
   "id": "d9971f12-8876-414c-9933-a170152250a2",
   "metadata": {},
   "outputs": [],
   "source": [
    "# En esta parte del codigo se instala langchain\n",
    "!pip install langchain -q"
   ]
  },
  {
   "cell_type": "code",
   "execution_count": 2,
   "id": "cc9273f4-a4c4-4aa0-bc05-fbf848685658",
   "metadata": {},
   "outputs": [],
   "source": [
    "!pip install openai -q"
   ]
  },
  {
   "cell_type": "code",
   "execution_count": 3,
   "id": "cec3159e-d1a7-491e-8c6c-a8f23b5c4d0e",
   "metadata": {},
   "outputs": [],
   "source": [
    "!pip install python-dotenv -q"
   ]
  },
  {
   "cell_type": "code",
   "execution_count": 4,
   "id": "1d615abd-5778-46c9-b42d-5a9ef823864d",
   "metadata": {},
   "outputs": [],
   "source": [
    "import os\n",
    "import openai\n",
    "from dotenv import load_dotenv, find_dotenv"
   ]
  },
  {
   "cell_type": "code",
   "execution_count": 6,
   "id": "28ad5518-48d1-4d5a-b0b8-53898a6239dc",
   "metadata": {},
   "outputs": [
    {
     "data": {
      "text/plain": [
       "True"
      ]
     },
     "execution_count": 6,
     "metadata": {},
     "output_type": "execute_result"
    }
   ],
   "source": [
    "load_dotenv(find_dotenv())"
   ]
  },
  {
   "cell_type": "code",
   "execution_count": 7,
   "id": "e95804d0-1fc8-438f-bf65-85ead59c98c6",
   "metadata": {},
   "outputs": [],
   "source": [
    "openai.api_key = os.environ['OPENAI_API_KEY']"
   ]
  },
  {
   "cell_type": "markdown",
   "id": "a9a5c953-f59d-4877-83be-a417cb4f1613",
   "metadata": {},
   "source": [
    "## Paginas Web"
   ]
  },
  {
   "cell_type": "code",
   "execution_count": 8,
   "id": "85dd0e0e-d815-4818-aa0f-1a5b4c603029",
   "metadata": {},
   "outputs": [
    {
     "name": "stderr",
     "output_type": "stream",
     "text": [
      "USER_AGENT environment variable not set, consider setting it to identify your requests.\n"
     ]
    }
   ],
   "source": [
    "from langchain.document_loaders import WebBaseLoader"
   ]
  },
  {
   "cell_type": "code",
   "execution_count": 9,
   "id": "fa50f83c-997b-42df-ab1f-6ad42f3128b4",
   "metadata": {},
   "outputs": [],
   "source": [
    "loader = WebBaseLoader(\"https://www.ibm.com/mx-es/topics/generative-ai\")"
   ]
  },
  {
   "cell_type": "code",
   "execution_count": 10,
   "id": "cf752eb2-182b-40f4-8002-3529b246aacb",
   "metadata": {},
   "outputs": [],
   "source": [
    "pagina = loader.load()"
   ]
  },
  {
   "cell_type": "code",
   "execution_count": 11,
   "id": "25827e4b-6559-48a4-9549-8f02480e641e",
   "metadata": {},
   "outputs": [
    {
     "data": {
      "text/plain": [
       "[Document(metadata={'source': 'https://www.ibm.com/mx-es/topics/generative-ai', 'title': '¿Qué es la IA generativa? | IBM', 'description': 'La IA generativa es la inteligencia artificial (IA) que puede crear contenidos originales en respuesta a las indicaciones o peticiones de un usuario.', 'language': 'es'}, page_content='\\n\\n\\n\\n\\n\\n\\n\\n\\n¿Qué es la IA generativa? | IBM\\n\\n\\n\\n\\n\\n\\n\\n\\n\\n\\n\\n\\n\\n\\n\\n\\n\\n\\n\\n\\n\\n\\n\\n\\n\\n\\n\\n\\n\\n\\n\\n\\n\\n\\n\\n\\n\\n\\n\\n\\n\\n\\n\\n\\n\\n\\n\\n\\n\\n\\n\\n\\n\\n\\n\\n\\n\\n\\n\\n\\n\\n\\n\\n\\n\\n\\n\\n\\n\\n\\n\\nInicio\\n\\n\\n\\n\\nTemas\\n\\n\\n\\nIA generativa\\n\\n\\n\\n                    \\n\\n\\n\\n  \\n    ¿Qué es la IA generativa?\\xa0\\n\\n\\n\\n\\n\\n\\n    \\n\\n\\n                \\n\\n\\n\\n\\nDescubra la IA generativa con watsonx.ai\\n\\n\\nSuscríbase para recibir actualizaciones sobre IA\\n\\n\\n\\n\\n\\n\\n\\n\\n\\n\\n\\n\\n\\n\\n\\n\\n\\n\\n\\n\\n\\n\\n\\n\\n\\n\\n\\n\\n\\n\\n\\n\\n\\n\\n\\n\\n\\nPublicado: 22 de marzo de 2024\\nColaboradores: Cole Stryker, Mark Scapicchio\\n\\n\\n\\n\\n\\n\\n\\n\\n\\n\\n  \\n\\n\\n\\n    ¿Qué es la IA generativa?\\n\\n\\n\\n\\n\\n    \\n\\n\\n            \\n        \\n\\n\\n\\n\\nLa IA generativa, a veces llamada gen AI,\\xa0es inteligencia artificial (IA) que puede crear contenido original, como texto, imágenes, video, audio o código de software, en respuesta a una instrucción o solicitud de un usuario.\\n\\n\\n\\n\\n\\n\\nLa IA generativa se basa en sofisticados modelos de aprendizaje automático llamados modelos de aprendizaje profundo , algoritmos que simulan los procesos de aprendizaje y la toma de decisiones del cerebro humano. Estos modelos funcionan mediante la identificación y programación de los patrones y relaciones en grandes cantidades de datos, y luego usando esa información para comprender las solicitudes o preguntas del lenguaje natural de los usuarios y responder con nuevo contenido relevante.\\nLa IA ha sido un tema candente en la tecnología durante la última década, pero la IA generativa, y en concreto la llegada de ChatGPT en 2022, ha llevado a la IA a los titulares de todo el mundo, y ha disparado un aumento en la innovación y adopción de la IA sin precedentes.\\xa0La IA generativa ofrece enormes ventajas de productividad para las personas y las organizaciones; aunque también presenta retos y riesgos muy reales, las empresas están avanzando, explorando cómo la tecnología puede mejorar sus flujos de trabajo internos y enriquecer sus productos y servicios. Según un estudio de la consultoría de gestión McKinsey, un tercio de las organizaciones ya utilizan IA generativa de forma regular en al menos una función empresarial.¹ El analista del sector Gartner prevé que más del 80\\xa0% de las organizaciones habrán desplegado aplicaciones de IA generativa o utilizado interfaces de programación de aplicaciones (API) de IA generativa para 2026.2\\n\\xa0\\n\\n\\n\\n\\n\\n\\n\\n\\n\\n\\n\\n            Libro electrónico\\n        \\n\\n            IA generativa y aprendizaje automático para la empresa\\n        \\nAprenda a incorporar con confianza la IA generativa y el aprendizaje automático en su negocio.\\n\\nRegístrese y descargue\\n\\n\\n\\n\\n\\n            \\n\\n\\n  \\n  \\n      Contenido relacionado\\n  \\n\\n\\n\\n\\n    \\n\\n\\n        \\n\\nRegístrese para obtener la guía sobre modelos fundacionales\\n\\n\\n\\n\\n\\n\\n\\n\\n\\n\\n\\n\\n\\n\\n\\n\\n\\n\\n  \\n\\n\\n\\n    Cómo funciona la IA generativa\\n\\n\\n\\n\\n\\n    \\n\\n\\n                        \\n                    \\n\\n\\n\\n\\n\\n\\n\\nEn la mayoría de los casos, la IA generativa opera en tres fases:\\xa0\\nEntrenamiento, para crear un modelo fundacional que pueda servir como base de múltiples aplicaciones de IA generativa.\\n\\nAjuste, para adaptar el modelo fundacional a una aplicación de IA generativa específica.\\n\\nGeneración, evaluación y reajuste, para evaluar el resultado de la aplicación de IA generativa, y mejorar continuamente su calidad y precisión.\\n\\n\\n\\n\\n\\n\\n\\n\\n\\n\\n        \\n\\n\\n\\n  \\n    Capacitación\\n\\n\\n\\n\\n\\n\\n    \\n\\n\\n    \\n\\n\\n\\nLa IA generativa comienza con un modelo fundacional, un modelo de aprendizaje profundo que sirve de base para múltiples tipos de aplicaciones de IA generativa. Los modelos fundacionales más comunes hoy en día son los modelos de lenguaje de gran tamaño (LLM), creados para aplicaciones de generación de texto, pero también hay modelos básicos para la generación de imágenes, videos, sonido y música, así como modelos fundacionales multimodales que pueden admitir varios tipos de generación de contenido.\\nPara crear un modelo fundacional, los profesionales entrenan un algoritmo de aprendizaje profundo en enormes volúmenes de datos en bruto, no estructurados y sin etiquetar; por ejemplo, terabytes de datos extraídos de Internet o de alguna otra fuente de datos de gran tamaño. Durante el entrenamiento, el algoritmo realiza y evalúa millones de ejercicios de \"rellenar los espacios en blanco\", intentando predecir el siguiente elemento de una secuencia; por ejemplo, la siguiente palabra de una frase, el siguiente elemento de una imagen, el siguiente comando de una línea de código, y ajustándose continuamente para minimizar la diferencia entre sus predicciones y los datos reales (o resultado \"correcto\").\\nEl resultado de este entrenamiento es una red neuronal de parámetros (representaciones codificadas de las entidades, patrones y relaciones en los datos) que pueden generar contenido de forma autónoma en respuesta a entradas o instrucciones.\\nEste proceso de entrenamiento requiere un uso intensivo de recursos informáticos, consume mucho tiempo y es costoso: requiere miles de unidades de procesamiento de gráficos (GPU) agrupadas y semanas de procesamiento; además, todo esto cuesta millones de dólares. Los proyectos de modelos fundacionales de código abierto, como Llama-2 de Meta, permiten a los desarrolladores de IA generativa evitar este paso y sus costos.\\n\\n\\n\\n\\n\\n\\n\\n\\n\\n\\n        \\n\\n\\n\\n  \\n    Ajuste\\n\\n\\n\\n\\n\\n\\n    \\n\\n\\n    \\n\\n\\n\\nMetafóricamente hablando, un modelo fundacional es generalista: sabe mucho sobre muchos tipos de contenido, pero a menudo no puede generar tipos específicos de resultados con la precisión o fidelidad deseadas. Para ello, el modelo debe ajustarse a una tarea específica de generación de contenido. Esto se puede hacer de varias maneras.\\n\\n\\n\\n\\n\\n\\n\\n        \\n\\n\\n\\n  \\n    Ajuste\\n\\n\\n\\n\\n\\n\\n    \\n\\n\\n    \\n\\n\\n\\nEl ajuste implica alimentar el modelo con datos etiquetados específicos de la aplicación de generación de contenido: preguntas o instrucciones que es probable que reciba la aplicación y las respuestas correctas correspondientes en el formato deseado. Por ejemplo, si un equipo de desarrollo intenta crear un chatbot de atención al cliente, crearía cientos o miles de documentos que contienen preguntas de atención al cliente etiquetadas y respuestas correctas; posteriormente, alimentaría el modelo con esos documentos.\\nEl ajuste fino requiere mucha mano de obra. Los desarrolladores a menudo subcontratan la tarea a empresas con grandes fuerzas laborales de etiquetado de datos.\\n\\n\\n\\n\\n\\n\\n\\n\\n        \\n\\n\\n\\n  \\n    Aprendizaje por refuerzo con retroalimentación humana (RLHF, por sus siglas en inglés)\\n\\n\\n\\n\\n\\n\\n    \\n\\n\\n    \\n\\n\\n\\nEn las RLHF, los usuarios humanos responden al contenido generado con evaluaciones que el modelo puede utilizar para actualizar el modelo para una mayor precisión o relevancia. A menudo, en las RLHF hay personas que \"asignan una calificación\" a diferentes resultados en respuesta a la misma pregunta. Pero puede ser tan sencillo como hacer que la gente escriba o responda a un chatbot o asistente virtual, corrigiendo sus resultados.\\n\\n\\n\\n\\n\\n\\n\\n\\n\\n\\n\\n        \\n\\n\\n\\n  \\n    Generación, evaluación, más ajuste\\n\\n\\n\\n\\n\\n\\n    \\n\\n\\n    \\n\\n\\n\\nLos desarrolladores y usuarios evalúan continuamente los resultados de sus aplicaciones de IA generativa y ajustan adicionalmente el modelo, incluso una vez a la semana, para aumentar su precisión o relevancia. (En cambio, el propio modelo fundacional se actualiza con mucha menos frecuencia, quizá cada año o cada 18 meses.)\\nOtra opción para mejorar el rendimiento de una aplicación de IA generativa es la generación aumentada de recuperación (RAG). La RAG consiste en un marco para ampliar el modelo fundacional y utilizar fuentes relevantes fuera de los datos de entrenamiento, para complementar y ajustar los parámetros o representaciones en el modelo original.\\xa0La RAG puede garantizar que una aplicación de IA generativa siempre tenga acceso a la información más actualizada. Como beneficio adicional, las fuentes adicionales a las que se accede a través de RAG son transparentes para los usuarios, lo que no ocurre con los conocimientos del modelo fundacional original.\\xa0\\n\\xa0\\n\\n\\n\\n\\n\\n\\n\\n\\n\\n\\n\\n\\n\\n\\n\\n\\n\\n\\n\\n\\n\\n\\n\\n\\n\\n\\n\\n\\n\\n\\n  \\n\\n\\n\\n    Arquitecturas de modelos de IA generativa y su evolución\\n\\n\\n\\n\\n\\n    \\n\\n\\n            \\n        \\n\\n\\n\\n\\nLos modelos de IA realmente generativa (modelos de aprendizaje profundo que pueden crear contenido bajo demanda de forma autónoma) han evolucionado en los últimos doce años aproximadamente. Entre las arquitecturas de modelos que han marcado un hito durante ese periodo se encuentran:\\nAutocodificadores variacionales (VAE), que impulsaron avances en el reconocimiento de imágenes, el procesamiento del lenguaje natural y la detección de anomalías.\\n\\xa0\\nRedes generativas adversativas (GAN) y modelos de difusión, que mejoraron la precisión de las aplicaciones anteriores y habilitaron algunas de las primeras soluciones de IA para la generación de imágenes fotorrealistas.\\n\\xa0\\nTransformadores, la arquitectura de modelos de aprendizaje profundo que está detrás de los modelos fundacionales y las soluciones de IA generativa más importantes de la actualidad.\\n\\n\\n\\n\\n\\n\\n      \\n\\n\\n\\n  \\n    Autocodificadores variacionales (VAE, por sus siglas en inglés)\\n\\n\\n\\n\\n\\n\\n    \\n\\n\\n    \\n\\n\\nUn autocodificador es un modelo de aprendizaje profundo que se compone de dos redes neuronales conectadas: una que codifica (o comprime) una gran cantidad de datos de capacitación no estructurados y no etiquetados en parámetros y otra que decodifica esos parámetros para reconstruir el contenido. Técnicamente, los autocodificadores pueden generar contenido nuevo, pero son más útiles para comprimir datos para su almacenamiento o transferencia, y descomprimirlos para su uso, que para la generación de contenido de alta calidad.\\nPresentados en 2013, los autocodificadores variacionales (VAE) pueden codificar datos como un autocodificador, pero descodifican múltiples variaciones nuevas del contenido. Al entrenar a una VAE para que genere variaciones hacia un objetivo concreto, puede \"concentrarse\" en contenidos más precisos y de mayor fidelidad a lo largo del tiempo. Las primeras aplicaciones de VAE incluían la detección de anomalías (por ejemplo, análisis de imágenes médicas) y la generación de lenguaje natural.\\n\\n\\n\\n\\n\\n      \\n\\n\\n\\n  \\n    Redes generativas adversativas (GAN)\\n\\n\\n\\n\\n\\n\\n    \\n\\n\\n    \\n\\n\\nLas GAN, presentadas en 2014, también están compuestas por dos redes neuronales: un generador, que genera nuevo contenido, y un discriminador, que evalúa la precisión y calidad de los datos generados. Estos algoritmos contradictorios incentivan al modelo a generar resultados de calidad cada vez mayor.\\nLas GAN se utilizan normalmente para la generación de imágenes y videos, pero pueden generar contenido realista y de alta calidad en varios dominios. Han demostrado ser especialmente eficaces en tareas como la transferencia de estilo (alterar el estilo de una imagen, por ejemplo, de una foto a un boceto a lápiz) y el aumento de datos (crear datos nuevos y sintéticos para aumentar el tamaño y la diversidad de un conjunto de datos de entrenamiento).\\n\\n\\n\\n\\n\\n      \\n\\n\\n\\n  \\n    Modelos de difusión\\n\\n\\n\\n\\n\\n\\n    \\n\\n\\n    \\n\\n\\nTambién presentados en 2014, los modelos de difusión funcionan agregando ruido a los datos de entrenamiento hasta que sean aleatorios e irreconocibles, y luego entrenan el algoritmo para difundir iterativamente el ruido y revelar un resultado deseado.\\nLos modelos de difusión tardan más tiempo en entrenarse que los VAE o GAN, pero en última instancia ofrecen un control más detallado sobre el resultado, especialmente para herramientas de generación de imágenes de alta calidad. DALL-E, la herramienta de generación de imágenes de Open AI, está impulsada por un modelo de difusión.\\n\\n\\n\\n\\n\\n      \\n\\n\\n\\n  \\n    Los transformadores\\n\\n\\n\\n\\n\\n\\n    \\n\\n\\n    \\n\\n\\nDocumentado por primera vez en un artículo de 2017 publicado por Ashish Vaswani y otros, los transformadores evolucionan el paradigma codificador-decodificador para dar un gran paso adelante en la forma en que se entrenan los modelos fundacionales y en la calidad y variedad de contenido que pueden producir. Estos modelos son el núcleo de la mayoría de las herramientas de IA generativa que ocupan los titulares en la actualidad, incluidas ChatGPT y GPT-4, Copilot, BERT, Bard y Midjourney, por nombrar algunas.\\nLos transformadores utilizan un concepto llamado atención (determinar y enfocarse en lo que es más importante sobre los datos dentro de una secuencia) para\\nprocesar secuencias completas de datos (por ejemplo, oraciones en lugar de palabras individuales) simultáneamente;\\n\\xa0\\ncapturar el contexto de los datos dentro de la secuencia;\\n\\xa0\\ncodificar los datos de entrenamiento en incorporaciones (también llamadas hiperparámetros) que representan los datos y su contexto.\\n\\nAdemás de permitir un entrenamiento más rápido, los transformadores sobresalen en el procesamiento de lenguaje natural (PLN) y la comprensión del lenguaje natural (CLN)), y pueden generar secuencias de datos más largas; por ejemplo, no solo respuestas a preguntas, sino poemas, artículos o documentos, con mayor precisión y mayor calidad que otros modelos de IA generativa profunda. Los modelos de transformadores también se pueden entrenar o ajustar para usar herramientas; por ejemplo, una aplicación de hoja de cálculo, HTML o un programa de dibujo, para generar contenido en un formato determinado.\\n\\xa0\\n\\n\\n\\n\\n\\n\\n\\n\\n\\n\\n\\n\\n\\n\\n\\n\\n\\n\\n\\n  \\n\\n\\n\\n    Qué puede crear la IA generativa\\n\\n\\n\\n\\n\\n    \\n\\n\\n                        \\n                    \\n\\n\\n\\n\\n\\n\\n\\nLa IA generativa puede crear muchos tipos de contenido en muchos dominios diferentes.\\xa0\\n\\n\\n\\n\\n\\n\\n\\n\\n        \\n\\n\\n\\n  \\n    Texto\\n\\n\\n\\n\\n\\n\\n    \\n\\n\\n    \\n\\n\\n\\nLos modelos generativos, especialmente aquellos basados en transformadores, pueden generar texto coherente y relevante para el contexto, desde instrucciones y documentación hasta folletos, correos electrónicos, textos para sitios web, blogs, artículos, informes, documentos e incluso escritura creativa. También pueden realizar tareas de escritura repetitivas o tediosas (redactar resúmenes de documentos o metadescripciones de páginas web), dejando tiempo a los redactores para trabajos más creativos y de mayor valor.\\n\\n\\n\\n\\n\\n\\n\\n\\n\\n        \\n\\n\\n\\n  \\n    Imágenes y video\\n\\n\\n\\n\\n\\n\\n    \\n\\n\\n    \\n\\n\\n\\nLa generación de imágenes, como DALL-E, Midjourney y Stable Diffusion, puede crear imágenes realistas o arte original; también puede realizar transferencia de estilo, traducción de imagen a imagen y otras tareas de edición de imágenes o mejora de imágenes. Las herramientas de video de IA generativa emergente pueden crear animaciones a partir de indicaciones de texto, y pueden aplicar efectos especiales al video existente de manera más rápida y rentable que otros métodos.\\n\\n\\n\\n\\n\\n\\n\\n\\n\\n        \\n\\n\\n\\n  \\n    Sonido, voz y música\\n\\n\\n\\n\\n\\n\\n    \\n\\n\\n    \\n\\n\\n\\nLos modelos generativos pueden sintetizar voz y contenido de audio de sonido natural para usarlos en chatbots de IA habilitados por voz y asistentes digitales, narración de audiolibros y otras aplicaciones. La misma tecnología puede generar música original que imita la estructura y el sonido de las composiciones hechas por profesionales.\\n\\n\\n\\n\\n\\n\\n\\n\\n\\n        \\n\\n\\n\\n  \\n    Código de software\\n\\n\\n\\n\\n\\n\\n    \\n\\n\\n    \\n\\n\\n\\nLa IA generativa puede generar código original, autocompletar fragmentos de código, traducir entre lenguajes de programación y resumir la funcionalidad del código. Permite a los desarrolladores crear prototipos, refactorizar y eliminar errores en aplicaciones rápidamente, al tiempo que ofrece una interfaz de lenguaje natural para tareas de programación.\\n\\n\\n\\n\\n\\n\\n\\n\\n\\n        \\n\\n\\n\\n  \\n    Diseño y arte\\n\\n\\n\\n\\n\\n\\n    \\n\\n\\n    \\n\\n\\n\\nLos modelos de IA generativa pueden generar obras de arte y diseño únicos, así como ayudar en el diseño gráfico. Las aplicaciones incluyen la generación dinámica de entornos, personajes o avatares, además de efectos especiales para simulaciones virtuales y videojuegos.\\n\\n\\n\\n\\n\\n\\n\\n\\n\\n        \\n\\n\\n\\n  \\n    Simulaciones y datos sintéticos.\\n\\n\\n\\n\\n\\n\\n    \\n\\n\\n    \\n\\n\\n\\nLos modelos de IA generativa pueden entrenarse para generar datos sintéticos o estructuras sintéticas basadas en datos reales o sintéticos. Por ejemplo, la IA generativa se aplica en el descubrimiento de fármacos para generar estructuras moleculares con las propiedades deseadas, lo que ayuda al diseño de nuevos compuestos farmacéuticos.\\n\\n\\n\\n\\n\\n\\n\\n\\n\\n\\n\\n\\n\\n\\n\\n\\n\\n\\n\\n\\n\\n\\n\\n\\n  \\n\\n\\n\\n    Beneficios de la IA generativa\\n\\n\\n\\n\\n\\n    \\n\\n\\n                        \\n                    \\n\\n\\n\\n\\n\\n\\n\\nEl beneficio obvio y general de la IA generativa es una mayor eficiencia. Debido a que puede generar contenido y respuestas bajo demanda, la IA generativa tiene el potencial de acelerar o automatizar tareas intensivas en mano de obra, reducir costos y liberar tiempo a los empleados para trabajos de mayor valor.\\nPero la IA generativa ofrece varios otros beneficios para personas y organizaciones.\\n\\n\\n\\n\\n\\n\\n\\n        \\n\\n\\n\\n  \\n    Creatividad mejorada\\n\\n\\n\\n\\n\\n\\n    \\n\\n\\n    \\n\\n\\n\\nLas herramientas de generación de inteligencia artificial pueden inspirar creatividad a través de una lluvia de ideas automatizada, dando lugar a múltiples versiones novedosas de contenido. Estas variaciones también pueden servir como puntos de partida o referencias que ayuden a escritores, artistas, diseñadores y otros creadores a superar los bloqueos creativos.\\n\\n\\n\\n\\n\\n\\n\\n\\n        \\n\\n\\n\\n  \\n    Toma de decisiones mejorada (y más rápida)\\n\\n\\n\\n\\n\\n\\n    \\n\\n\\n    \\n\\n\\n\\nLa IA generativa destaca en el análisis de grandes conjuntos de datos, la identificación de patrones y la extracción de insights significativos, y luego en la generación de hipótesis y recomendaciones basadas en esos conocimientos para apoyar a ejecutivos, analistas, investigadores y otros profesionales en la toma de decisiones más inteligentes y basadas en datos.\\n\\n\\n\\n\\n\\n\\n\\n\\n        \\n\\n\\n\\n  \\n    Personalización dinámica\\n\\n\\n\\n\\n\\n\\n    \\n\\n\\n    \\n\\n\\n\\nEn aplicaciones como los sistemas de recomendación y la creación de contenido, la IA generativa puede analizar las preferencias y el historial del usuario y generar contenido personalizado en tiempo real, lo que lleva a una experiencia de usuario más personalizada y atractiva.\\n\\n\\n\\n\\n\\n\\n\\n\\n        \\n\\n\\n\\n  \\n    Disponibilidad constante\\n\\n\\n\\n\\n\\n\\n    \\n\\n\\n    \\n\\n\\n\\nLa IA generativa opera continuamente sin fatiga, proporcionando disponibilidad las 24 horas para tareas como chatbots de atención al cliente y respuestas automatizadas.\\n\\n\\n\\n\\n\\n\\n\\n\\n\\n\\n\\n\\n\\n\\n\\n\\n\\n\\n\\n\\n\\n\\n\\n\\n\\n\\n\\n\\n\\n\\n\\n\\n\\n  \\n\\n\\n\\n    Casos de uso de IA generativa\\n\\n\\n\\n\\n\\n    \\n\\n\\n                        \\n                    \\n\\n\\n\\n\\n\\n\\n\\nLos siguientes son solo algunos de los casos de uso de la IA para las empresas. A medida que la tecnología se desarrolle y las organizaciones incorporen estas herramientas a sus flujos de trabajo, podemos esperar ver muchas más.\\xa0\\n\\n\\n\\n\\n\\n\\n\\n\\n        \\n\\n\\n\\n  \\n    Experiencia del cliente\\n\\n\\n\\n\\n\\n\\n    \\n\\n\\n    \\n\\n\\n\\nLas organizaciones de marketing pueden ahorrar tiempo y ampliar su producción de contenido mediante el uso de herramientas de IA generativa para redactar textos para blogs, páginas web, material publicitario, correos electrónicos y más. Pero las soluciones de IA generativa también pueden crear textos e imágenes de marketing muy personalizados en tiempo real en función de cuándo, dónde y a quién se entrega el anuncio. Y potenciará chatbots y agentes virtuales de próxima generación que pueden dar respuestas personalizadas e incluso iniciar acciones en nombre del cliente, un avance significativo en comparación con la generación anterior de modelos de IA conversacional entrenados con datos más limitados para tareas muy específicas.\\n\\n\\n\\n\\n\\n\\n\\n\\n\\n        \\n\\n\\n\\n  \\n    Desarrollo de software y modernización de aplicaciones\\n\\n\\n\\n\\n\\n\\n    \\n\\n\\n    \\n\\n\\n\\nLas herramientas de generación de código pueden automatizar y acelerar el proceso de escritura de código nuevo. La generación de código también tiene el potencial de acelerar drásticamente la modernización de aplicaciones automatizando gran parte de la programación repetitiva necesaria para modernizar las aplicaciones heredadas para entornos de nube híbrida.\\n\\n\\n\\n\\n\\n\\n\\n\\n\\n        \\n\\n\\n\\n  \\n    Trabajo digital\\n\\n\\n\\n\\n\\n\\n    \\n\\n\\n    \\n\\n\\n\\nLa IA generativa puede redactar o revisar rápidamente contratos, facturas, recibos y otros \"trámites\" digitales o físicos para que los empleados que la usan o gestionan puedan concentrarse en tareas de nivel superior.\\xa0Esto puede acelerar los flujos de trabajo en prácticamente todas las áreas empresariales, incluidos recursos humanos, asuntos legales, adquisiciones y finanzas.\\n\\n\\n\\n\\n\\n\\n\\n\\n\\n        \\n\\n\\n\\n  \\n    Ciencia, ingeniería e investigación\\n\\n\\n\\n\\n\\n\\n    \\n\\n\\n    \\n\\n\\n\\nLos modelos de IA generativa pueden ayudar a los científicos e ingenieros a proponer soluciones novedosas a problemas complejos. Por ejemplo, en la atención médica, los modelos generativos se pueden aplicar para sintetizar imágenes médicas para entrenar y probar sistemas de imágenes médicas.\\n\\n\\n\\n\\n\\n\\n\\n\\n\\n\\n\\n\\n\\n\\n\\n\\n\\n\\n\\n\\n\\n\\n\\n\\n  \\n\\n\\n\\n    Desafíos, limitaciones y riesgos\\n\\n\\n\\n\\n\\n    \\n\\n\\n                        \\n                    \\n\\n\\n\\n\\n\\n\\n\\nLa IA generativa ha logrado avances notables en un periodo relativamente corto, pero aún representa retos y riesgos importantes para los desarrolladores, los usuarios y el público en general. A continuación, se detallan algunos de los problemas más graves y cómo se están enfrentando.\\xa0\\n\\n\\n\\n\\n\\n\\n\\n        \\n\\n\\n\\n  \\n    \"Alucinaciones\" y otros resultados inexactos\\n\\n\\n\\n\\n\\n\\n    \\n\\n\\n    \\n\\n\\n\\nUna alucinación de IA es un resultado de IA generativa que no tiene sentido o es totalmente inexacta, pero, con demasiada frecuencia, parece completamente plausible. El ejemplo clásico es cuando un abogado utilizó una herramienta de IA generativa para la investigación en preparación para un caso de alto perfil, y la herramienta \"produjo\" varios casos de ejemplo, completos con citas y atribuciones, que eran completamente ficticios (enlace externo a ibm.com ).\\nAlgunos profesionales ven las alucinaciones como una consecuencia inevitable en el equilibrio de la precisión de un modelo y sus capacidades creativas. Pero los desarrolladores pueden implementar medidas preventivas, llamadas medidas de seguridad, que restringen el modelo a fuentes de datos relevantes o confiables.\\xa0La evaluación y el ajuste continuos también pueden ayudar a reducir las alucinaciones y las imprecisiones.\\n\\n\\n\\n\\n\\n\\n\\n\\n        \\n\\n\\n\\n  \\n    Resultados inconsistentes\\n\\n\\n\\n\\n\\n\\n    \\n\\n\\n    \\n\\n\\n\\nDebido a la naturaleza variacional o probabilística de los modelos de IA generativa, las mismas entradas pueden dar lugar a resultados un poco o muy diferentes. Esto puede ser indeseable en ciertas aplicaciones, como los chatbots de atención al cliente, donde se esperan o desean resultados coherentes. A través de la ingeniería rápida, al ajustar o redactar de forma iterativa las instrucciones, los usuarios pueden llegar a instrucciones que ofrezcan de forma coherente los resultados que desean de sus aplicaciones de IA generativa.\\n\\n\\n\\n\\n\\n\\n\\n\\n        \\n\\n\\n\\n  \\n    Sesgo\\n\\n\\n\\n\\n\\n\\n    \\n\\n\\n    \\n\\n\\n\\nLos modelos generativos pueden aprender los sesgos sociales presentes en los datos de entrenamiento, o en los datos etiquetados, las fuentes de datos externas o los evaluadores humanos utilizados para ajustar el modelo, y generar contenido sesgado, injusto u ofensivo como resultado. Para evitar resultados sesgados de sus modelos, \\xa0los desarrolladores deben garantizar que los datos de entrenamiento sean diversos, establecer pautas para evitar sesgos durante el entrenamiento y el ajuste, así como evaluar continuamente los resultados del modelo para determinar el sesgo y la precisión.\\n\\n\\n\\nMás información sobre el sesgo de la IA\\n            \\n        \\n\\n\\n\\n\\n\\n        \\n\\n\\n\\n  \\n    Falta de explicabilidad y métricas\\n\\n\\n\\n\\n\\n\\n    \\n\\n\\n    \\n\\n\\n\\nMuchos modelos de IA generativa son modelos de \"caja negra\", lo que significa que puede ser desafiante o imposible entender sus procesos de toma de decisiones; incluso los ingenieros o científicos de datos que crean el algoritmo subyacente pueden entender o explicar qué es exactamente lo que está sucediendo dentro de este y cómo llega a un resultado específico. Las prácticas y técnicas explicables de IA pueden ayudar a los profesionales y usuarios a comprender y confiar en los procesos y resultados de los modelos generativos.\\nLa evaluación y comparación de la calidad del contenido generado también puede ser un reto. Es posible que las métricas de evaluación tradicionales no capturen los aspectos matizados de la creatividad, la coherencia o la relevancia. El desarrollo de métodos de evaluación sólidos y confiables para la IA generativa sigue siendo un área activa de investigación.\\n\\n\\n\\n\\n\\n\\n\\n\\n        \\n\\n\\n\\n  \\n    Amenazas a la seguridad, la privacidad y la propiedad intelectual\\n\\n\\n\\n\\n\\n\\n    \\n\\n\\n    \\n\\n\\n\\nLos modelos de IA generativa pueden aprovecharse para generar correos electrónicos de phishing convincentes, identidades falsas u otro contenido malicioso que pueda engañar a los usuarios para que tomen medidas que comprometan la seguridad y la privacidad de los datos. Los desarrolladores y usuarios deben tener cuidado de que los datos ingresados en el modelo (durante el ajuste o como parte de una instrucción) no expongan su propia propiedad intelectual (IP) o cualquier información protegida como IP por otras organizaciones. Y necesitan monitorear los resultados en busca de contenido nuevo que exponga su propia IP o viole las protecciones de IP de otros.\\n\\n\\n\\n\\n\\n\\n\\n\\n        \\n\\n\\n\\n  \\n    Deepfakes\\n\\n\\n\\n\\n\\n\\n    \\n\\n\\n    \\n\\n\\n\\nLos deepfakes son imágenes, videos o audio generados o manipulados por IA y creados para convencer a las personas de que están viendo, mirando o escuchando a alguien hacer o decir algo que nunca hizo o dijo. Se encuentran entre los ejemplos más escalofriantes de cómo el poder de la IA generativa puede aplicarse con intenciones maliciosas.\\nLa mayoría de las personas están familiarizadas con los deepfakes creados para dañar la reputación o difundir información errónea. Más recientemente, los delincuentes cibernéticos han desplegado deepfakes como parte de ataques cibernéticos (por ejemplo, voces falsas en estafas de phishing de voz) o esquemas de fraude financiero.\\nLos investigadores están trabajando arduamente en modelos de IA que puedan detectar deepfakes con mayor precisión. Mientras tanto, la educación de los usuarios y las mejores prácticas (por ejemplo, no compartir material polémico no verificado o no contrastado) pueden ayudar a limitar el daño que pueden causar los deepfakes.\\n\\n\\n\\n\\n\\n\\n\\n\\n\\n\\n\\n\\n\\n\\n\\n\\n\\n\\n\\n\\n\\n\\n  \\n\\n\\n\\n    Una breve historia de la IA generativa\\n\\n\\n\\n\\n\\n    \\n\\n\\n            \\n        \\n\\n\\n\\nEl término “IA generativa” explotó en la conciencia pública en la década de 2020, pero la IA generativa ha sido parte de nuestras vidas durante décadas, y la tecnología de IA generativa de hoy se basa en los avances del aprendizaje automático desde principios del siglo XX. Una historia representativa no exhaustiva de la IA generativa podría incluir algunas de las siguientes fechas:\\nAño 1964: El científico informático del MIT Joseph Weizenbaum desarrolla ELIZA, una aplicación de procesamiento de lenguaje natural basada en texto. ELIZA, el primer chatbot (entonces denominado \"chatterbot\"), utilizaba secuencias de comandos de concordancia de patrones para responder a entradas de lenguaje natural con respuestas de texto empáticas.\\n\\xa0\\n1999: Nvidia envía GeoForce, la primera unidad de procesamiento gráfico. Originalmente desarrolladas para ofrecer gráficos en movimiento fluido para videojuegos, las GPU se habían convertido en la plataforma de facto para desarrollar modelos de IA y minería de criptomonedas.\\n\\xa0\\n2004: aparece por primera vez el autocompletado de Google, que genera posibles siguientes palabras o frases a medida que los usuarios ingresan sus términos de búsqueda. El ejemplo relativamente moderno de IA generativa se basa en la Cadena de Markov, un modelo matemático desarrollado en 1906.\\n\\xa0\\n2013: Aparecen los primeros autocodificadores variacionales (VAE).\\n\\xa0\\n2014: Aparecen las primeras redes generativas adversariales (GAN) y modelos de difusión.\\n\\xa0\\n2017: Ashish Vaswani, un equipo de Google Brain, y un grupo de la Universidad de Toronto publican \"Attention is All You Need\", un documento sobre los principios de los modelos transformadores, ampliamente reconocidos por habilitar los modelos fundacionales más potentes y las herramientas de IA generativa que se están desarrollando en la actualidad.\\n\\xa0\\n2019-2020: OpenAI lanza sus modelos de lenguaje grande GPT (Generative Pretrained Transformer), GPT-2 y GPT-3.\\n\\n2022: OpenAI presenta ChatGPT, un frontend para GPT-3 que genera oraciones complejas, coherentes y contextuales y contenido de formato largo en respuesta a las indicaciones del usuario final.\\n\\nCon la notoriedad y popularidad de ChatGPT, que abrió las compuertas, los desarrollos de IA generativa y los lanzamientos de productos se han producido a un ritmo vertiginoso, incluidos los lanzamientos de Google Bard (ahora Gemini), Microsoft Copilot, IBM watsonx.ai, y el modelo de lenguaje de gran tamaño y de código abierto Llama-2 de Meta.\\n\\n\\n\\n\\n\\n\\n\\n\\n\\n\\n\\n            Soluciones relacionadas\\n        \\n\\n\\n\\n\\n            \\n\\n\\n\\n  \\n    IBM\\xa0watsonx.ai\\n\\n\\n\\n\\n\\n\\n    \\n\\n\\n        \\n\\n\\n\\nEntrene, valide, ajuste y despliegue IA generativa, modelos fundacionales y capacidades de aprendizaje automático con facilidad, y cree aplicaciones de IA en una fracción del tiempo con un fragmento de los datos.\\xa0IBM watsonx.ai reúne nuevas capacidades de IA generativa, impulsadas por modelos fundacionales y aprendizaje automático tradicional en un estudio que abarca el ciclo de vida de la IA.\\xa0\\n\\n\\n\\n\\n\\n            Explore IBM watson.ai\\n            \\n        \\n\\n            Pruebe watson.ai gratis\\n            \\n        \\n\\n\\n\\n\\n\\n\\n            \\n\\n\\n\\n  \\n    IBM watsonx™\\xa0Assistant\\n\\n\\n\\n\\n\\n\\n    \\n\\n\\n        \\n\\n\\n\\nOfrezca experiencias excepcionales a los clientes en cada interacción, a los agentes de centros de atención telefónica que necesitan asistencia e incluso a los empleados que necesitan información. Escale las respuestas en lenguaje natural con base en el contenido empresarial para impulsar interacciones orientadas a los resultados y respuestas rápidas y precisas.\\n\\n\\n\\n\\n\\n            Conozca IBM watsonx Assistant\\n            \\n        \\n\\n\\n\\n\\n\\n\\n            \\n\\n\\n\\n  \\n    Soluciones de IA\\n\\n\\n\\n\\n\\n\\n    \\n\\n\\n        \\n\\n\\n\\nConstruya el futuro de su empresa con soluciones de IA en las que puede confiar.\\xa0Con una experiencia inigualable en la resolución de los retos empresariales más complejos del mundo, IBM puede ayudarle, esté donde esté en su travesía hacia la IA.\\n\\n\\n\\n\\n\\n            Explore las soluciones de IA\\n            \\n        \\n\\n\\n\\n\\n\\n\\n\\n\\n\\n\\n\\n  \\n\\n\\n\\n    Recursos\\n\\n\\n\\n\\n\\n    \\n\\n\\n                \\n            \\n\\n\\n\\n                Educación en IA\\n            \\n\\n                Academia de IA de IBM\\n            \\nNuestra nueva experiencia educativa insignia de IA empresarial, AI Academy, ayuda a los líderes empresariales a obtener los conocimientos necesarios para priorizar las inversiones en IA que pueden impulsar el crecimiento.\\n\\nPóngase en marcha\\n\\n\\n\\n\\n                IBM Institute of Business Value\\n            \\n\\n                IA generativa\\n            \\nNuestra investigación basada en datos identifica cómo las empresas pueden localizar y explotar las oportunidades en el campo de la IA en constante evolución y expansión.\\n\\nExplore la investigación\\n\\n\\n\\n\\n                Liderazgo de opinión\\n            \\n\\n                La guía del CEO para la IA generativa\\n            \\nCómo los CEO pueden equilibrar el valor que la IA generativa puede crear con la inversión que exige y los riesgos que representa.\\n\\nLea la guía\\n\\n\\n\\n\\n                Desarrollador de IBM\\n            \\n\\n                Práctica con la IA generativa\\n            \\nAprenda los conceptos fundamentales y construya sus habilidades con laboratorios prácticos, cursos, proyectos guiados, ensayos y mucho más.\\n\\nComience a aprender\\n\\n\\n\\n\\n                Libro electrónico\\n            \\n\\n                Cómo elegir el modelo fundacional adecuado\\n            \\nElegir el modelo incorrecto puede afectar gravemente a su negocio. Aprenda a dimensionar el modelo más adecuado para su caso de uso.\\n\\nRegístrese y lea\\n\\n\\n\\n\\n                Tema relacionado\\n            \\n\\n                ¿Qué es el aprendizaje profundo?\\n            \\nEl aprendizaje profundo permite a los sistemas agrupar datos y hacer predicciones con una precisión increíble.\\n\\nMás información\\n\\n\\n\\n\\n\\n\\n\\n\\n\\n\\n\\n\\n\\n\\n\\n\\n\\n\\nDé el siguiente paso\\n\\n\\n\\n\\nEntrene, valide, ajuste y despliegue IA generativa, modelos fundacionales y capacidades de aprendizaje automático con IBM® watsonx.ai, un estudio empresarial de próxima generación para creadores de IA. Diseñe aplicaciones de IA en menos tiempo y con menos datos.\\n\\n\\n\\n\\n\\nExplore watsonx.ai\\n\\n\\nReserve una demostración en vivo\\n\\n\\n\\n\\n\\n\\n\\n\\n\\n\\n\\n\\n\\n\\n\\n\\n\\n\\n\\n\\n\\n\\n\\n\\n\\n\\n                            \\n\\n\\n\\n  \\n    Notas de pie de página\\n\\n\\n\\n\\n\\n\\n    \\n\\n\\n                        \\n\\n\\n\\n\\n\\n1\\xa0The state of AI in 2023: Generative AI\\'s breakout year\\xa0(enlace externo a ibm.com), McKinsey, 1 de agosto de 2023\\n2\\xa0Gartner afirma que más del 80\\xa0% de las empresas habrán utilizado API de IA generativa o desplegado aplicaciones generativas habilitadas para IA para 2026\\xa0(el enlace reside fuera de ibm.com),\\xa0Gartner, 11 de octubre de 2023\\n\\xa0\\n\\n\\n\\n\\n\\n\\n\\n\\n\\n\\n\\n\\n\\n\\n\\n\\n\\n\\n\\n\\n\\n\\n\\n\\n\\n\\n\\n\\n\\n\\n\\n\\n\\n\\n\\n\\n\\n\\n\\n\\n\\n\\n\\n\\n\\n\\n\\n\\n\\n\\n\\n\\n\\n\\n\\n\\n\\n\\n\\n\\n\\n\\n\\n\\n\\n\\n\\n\\n\\n\\n\\n\\n\\n\\n\\n')]"
      ]
     },
     "execution_count": 11,
     "metadata": {},
     "output_type": "execute_result"
    }
   ],
   "source": [
    "pagina"
   ]
  },
  {
   "cell_type": "code",
   "execution_count": 12,
   "id": "6ffe36be-17ef-420b-90fc-c58713ee8d62",
   "metadata": {},
   "outputs": [
    {
     "name": "stdout",
     "output_type": "stream",
     "text": [
      "\n",
      "\n",
      "\n",
      "\n",
      "\n",
      "\n",
      "\n",
      "\n",
      "\n",
      "¿Qué es la IA generativa? | IBM\n",
      "\n",
      "\n",
      "\n",
      "\n",
      "\n",
      "\n",
      "\n",
      "\n",
      "\n",
      "\n",
      "\n",
      "\n",
      "\n",
      "\n",
      "\n",
      "\n",
      "\n",
      "\n",
      "\n",
      "\n",
      "\n",
      "\n",
      "\n",
      "\n",
      "\n",
      "\n",
      "\n",
      "\n",
      "\n",
      "\n",
      "\n",
      "\n",
      "\n",
      "\n",
      "\n",
      "\n",
      "\n",
      "\n",
      "\n",
      "\n",
      "\n",
      "\n",
      "\n",
      "\n",
      "\n",
      "\n",
      "\n",
      "\n",
      "\n",
      "\n",
      "\n",
      "\n",
      "\n",
      "\n",
      "\n",
      "\n",
      "\n",
      "\n",
      "\n",
      "\n",
      "\n",
      "\n",
      "\n",
      "\n",
      "\n",
      "\n",
      "\n",
      "\n",
      "\n",
      "\n",
      "\n",
      "Inicio\n",
      "\n",
      "\n",
      "\n",
      "\n",
      "Temas\n",
      "\n",
      "\n",
      "\n",
      "IA generativa\n",
      "\n",
      "\n",
      "\n",
      "                    \n",
      "\n",
      "\n",
      "\n",
      "  \n",
      "    ¿Qué es la IA generativa? \n",
      "\n",
      "\n",
      "\n",
      "\n",
      "\n",
      "\n",
      "    \n",
      "\n",
      "\n",
      "                \n",
      "\n",
      "\n",
      "\n",
      "\n",
      "Descubra la IA generativa con watsonx.ai\n",
      "\n",
      "\n",
      "Suscríbase para recibir actualizaciones sobre IA\n",
      "\n",
      "\n",
      "\n",
      "\n",
      "\n",
      "\n",
      "\n",
      "\n",
      "\n",
      "\n",
      "\n",
      "\n",
      "\n",
      "\n",
      "\n",
      "\n",
      "\n",
      "\n",
      "\n",
      "\n",
      "\n",
      "\n",
      "\n",
      "\n",
      "\n",
      "\n",
      "\n",
      "\n",
      "\n",
      "\n",
      "\n",
      "\n",
      "\n",
      "\n",
      "\n",
      "\n",
      "\n",
      "Publicado: 22 de marzo de 2024\n",
      "Colaboradores: Cole Stryker, Mark Scapicchio\n",
      "\n",
      "\n",
      "\n",
      "\n",
      "\n",
      "\n",
      "\n",
      "\n",
      "\n",
      "\n",
      "  \n",
      "\n",
      "\n",
      "\n",
      "    ¿Qué es la IA generativa?\n",
      "\n",
      "\n",
      "\n",
      "\n",
      "\n",
      "   \n"
     ]
    }
   ],
   "source": [
    "print(pagina[0].page_content[:500])"
   ]
  },
  {
   "cell_type": "code",
   "execution_count": 13,
   "id": "d766543f-a7ed-462e-8516-9d366dbe1b34",
   "metadata": {},
   "outputs": [
    {
     "data": {
      "text/plain": [
       "[Document(metadata={'source': 'https://www.ibm.com/mx-es/topics/generative-ai', 'title': '¿Qué es la IA generativa? | IBM', 'description': 'La IA generativa es la inteligencia artificial (IA) que puede crear contenidos originales en respuesta a las indicaciones o peticiones de un usuario.', 'language': 'es'}, page_content='\\n\\n\\n\\n\\n\\n\\n\\n\\n¿Qué es la IA generativa? | IBM\\n\\n\\n\\n\\n\\n\\n\\n\\n\\n\\n\\n\\n\\n\\n\\n\\n\\n\\n\\n\\n\\n\\n\\n\\n\\n\\n\\n\\n\\n\\n\\n\\n\\n\\n\\n\\n\\n\\n\\n\\n\\n\\n\\n\\n\\n\\n\\n\\n\\n\\n\\n\\n\\n\\n\\n\\n\\n\\n\\n\\n\\n\\n\\n\\n\\n\\n\\n\\n\\n\\n\\nInicio\\n\\n\\n\\n\\nTemas\\n\\n\\n\\nIA generativa\\n\\n\\n\\n                    \\n\\n\\n\\n  \\n    ¿Qué es la IA generativa?\\xa0\\n\\n\\n\\n\\n\\n\\n    \\n\\n\\n                \\n\\n\\n\\n\\nDescubra la IA generativa con watsonx.ai\\n\\n\\nSuscríbase para recibir actualizaciones sobre IA\\n\\n\\n\\n\\n\\n\\n\\n\\n\\n\\n\\n\\n\\n\\n\\n\\n\\n\\n\\n\\n\\n\\n\\n\\n\\n\\n\\n\\n\\n\\n\\n\\n\\n\\n\\n\\n\\nPublicado: 22 de marzo de 2024\\nColaboradores: Cole Stryker, Mark Scapicchio\\n\\n\\n\\n\\n\\n\\n\\n\\n\\n\\n  \\n\\n\\n\\n    ¿Qué es la IA generativa?\\n\\n\\n\\n\\n\\n    \\n\\n\\n            \\n        \\n\\n\\n\\n\\nLa IA generativa, a veces llamada gen AI,\\xa0es inteligencia artificial (IA) que puede crear contenido original, como texto, imágenes, video, audio o código de software, en respuesta a una instrucción o solicitud de un usuario.\\n\\n\\n\\n\\n\\n\\nLa IA generativa se basa en sofisticados modelos de aprendizaje automático llamados modelos de aprendizaje profundo , algoritmos que simulan los procesos de aprendizaje y la toma de decisiones del cerebro humano. Estos modelos funcionan mediante la identificación y programación de los patrones y relaciones en grandes cantidades de datos, y luego usando esa información para comprender las solicitudes o preguntas del lenguaje natural de los usuarios y responder con nuevo contenido relevante.\\nLa IA ha sido un tema candente en la tecnología durante la última década, pero la IA generativa, y en concreto la llegada de ChatGPT en 2022, ha llevado a la IA a los titulares de todo el mundo, y ha disparado un aumento en la innovación y adopción de la IA sin precedentes.\\xa0La IA generativa ofrece enormes ventajas de productividad para las personas y las organizaciones; aunque también presenta retos y riesgos muy reales, las empresas están avanzando, explorando cómo la tecnología puede mejorar sus flujos de trabajo internos y enriquecer sus productos y servicios. Según un estudio de la consultoría de gestión McKinsey, un tercio de las organizaciones ya utilizan IA generativa de forma regular en al menos una función empresarial.¹ El analista del sector Gartner prevé que más del 80\\xa0% de las organizaciones habrán desplegado aplicaciones de IA generativa o utilizado interfaces de programación de aplicaciones (API) de IA generativa para 2026.2\\n\\xa0\\n\\n\\n\\n\\n\\n\\n\\n\\n\\n\\n\\n            Libro electrónico\\n        \\n\\n            IA generativa y aprendizaje automático para la empresa\\n        \\nAprenda a incorporar con confianza la IA generativa y el aprendizaje automático en su negocio.\\n\\nRegístrese y descargue\\n\\n\\n\\n\\n\\n            \\n\\n\\n  \\n  \\n      Contenido relacionado\\n  \\n\\n\\n\\n\\n    \\n\\n\\n        \\n\\nRegístrese para obtener la guía sobre modelos fundacionales\\n\\n\\n\\n\\n\\n\\n\\n\\n\\n\\n\\n\\n\\n\\n\\n\\n\\n\\n  \\n\\n\\n\\n    Cómo funciona la IA generativa\\n\\n\\n\\n\\n\\n    \\n\\n\\n                        \\n                    \\n\\n\\n\\n\\n\\n\\n\\nEn la mayoría de los casos, la IA generativa opera en tres fases:\\xa0\\nEntrenamiento, para crear un modelo fundacional que pueda servir como base de múltiples aplicaciones de IA generativa.\\n\\nAjuste, para adaptar el modelo fundacional a una aplicación de IA generativa específica.\\n\\nGeneración, evaluación y reajuste, para evaluar el resultado de la aplicación de IA generativa, y mejorar continuamente su calidad y precisión.\\n\\n\\n\\n\\n\\n\\n\\n\\n\\n\\n        \\n\\n\\n\\n  \\n    Capacitación\\n\\n\\n\\n\\n\\n\\n    \\n\\n\\n    \\n\\n\\n\\nLa IA generativa comienza con un modelo fundacional, un modelo de aprendizaje profundo que sirve de base para múltiples tipos de aplicaciones de IA generativa. Los modelos fundacionales más comunes hoy en día son los modelos de lenguaje de gran tamaño (LLM), creados para aplicaciones de generación de texto, pero también hay modelos básicos para la generación de imágenes, videos, sonido y música, así como modelos fundacionales multimodales que pueden admitir varios tipos de generación de contenido.\\nPara crear un modelo fundacional, los profesionales entrenan un algoritmo de aprendizaje profundo en enormes volúmenes de datos en bruto, no estructurados y sin etiquetar; por ejemplo, terabytes de datos extraídos de Internet o de alguna otra fuente de datos de gran tamaño. Durante el entrenamiento, el algoritmo realiza y evalúa millones de ejercicios de \"rellenar los espacios en blanco\", intentando predecir el siguiente elemento de una secuencia; por ejemplo, la siguiente palabra de una frase, el siguiente elemento de una imagen, el siguiente comando de una línea de código, y ajustándose continuamente para minimizar la diferencia entre sus predicciones y los datos reales (o resultado \"correcto\").\\nEl resultado de este entrenamiento es una red neuronal de parámetros (representaciones codificadas de las entidades, patrones y relaciones en los datos) que pueden generar contenido de forma autónoma en respuesta a entradas o instrucciones.\\nEste proceso de entrenamiento requiere un uso intensivo de recursos informáticos, consume mucho tiempo y es costoso: requiere miles de unidades de procesamiento de gráficos (GPU) agrupadas y semanas de procesamiento; además, todo esto cuesta millones de dólares. Los proyectos de modelos fundacionales de código abierto, como Llama-2 de Meta, permiten a los desarrolladores de IA generativa evitar este paso y sus costos.\\n\\n\\n\\n\\n\\n\\n\\n\\n\\n\\n        \\n\\n\\n\\n  \\n    Ajuste\\n\\n\\n\\n\\n\\n\\n    \\n\\n\\n    \\n\\n\\n\\nMetafóricamente hablando, un modelo fundacional es generalista: sabe mucho sobre muchos tipos de contenido, pero a menudo no puede generar tipos específicos de resultados con la precisión o fidelidad deseadas. Para ello, el modelo debe ajustarse a una tarea específica de generación de contenido. Esto se puede hacer de varias maneras.\\n\\n\\n\\n\\n\\n\\n\\n        \\n\\n\\n\\n  \\n    Ajuste\\n\\n\\n\\n\\n\\n\\n    \\n\\n\\n    \\n\\n\\n\\nEl ajuste implica alimentar el modelo con datos etiquetados específicos de la aplicación de generación de contenido: preguntas o instrucciones que es probable que reciba la aplicación y las respuestas correctas correspondientes en el formato deseado. Por ejemplo, si un equipo de desarrollo intenta crear un chatbot de atención al cliente, crearía cientos o miles de documentos que contienen preguntas de atención al cliente etiquetadas y respuestas correctas; posteriormente, alimentaría el modelo con esos documentos.\\nEl ajuste fino requiere mucha mano de obra. Los desarrolladores a menudo subcontratan la tarea a empresas con grandes fuerzas laborales de etiquetado de datos.\\n\\n\\n\\n\\n\\n\\n\\n\\n        \\n\\n\\n\\n  \\n    Aprendizaje por refuerzo con retroalimentación humana (RLHF, por sus siglas en inglés)\\n\\n\\n\\n\\n\\n\\n    \\n\\n\\n    \\n\\n\\n\\nEn las RLHF, los usuarios humanos responden al contenido generado con evaluaciones que el modelo puede utilizar para actualizar el modelo para una mayor precisión o relevancia. A menudo, en las RLHF hay personas que \"asignan una calificación\" a diferentes resultados en respuesta a la misma pregunta. Pero puede ser tan sencillo como hacer que la gente escriba o responda a un chatbot o asistente virtual, corrigiendo sus resultados.\\n\\n\\n\\n\\n\\n\\n\\n\\n\\n\\n\\n        \\n\\n\\n\\n  \\n    Generación, evaluación, más ajuste\\n\\n\\n\\n\\n\\n\\n    \\n\\n\\n    \\n\\n\\n\\nLos desarrolladores y usuarios evalúan continuamente los resultados de sus aplicaciones de IA generativa y ajustan adicionalmente el modelo, incluso una vez a la semana, para aumentar su precisión o relevancia. (En cambio, el propio modelo fundacional se actualiza con mucha menos frecuencia, quizá cada año o cada 18 meses.)\\nOtra opción para mejorar el rendimiento de una aplicación de IA generativa es la generación aumentada de recuperación (RAG). La RAG consiste en un marco para ampliar el modelo fundacional y utilizar fuentes relevantes fuera de los datos de entrenamiento, para complementar y ajustar los parámetros o representaciones en el modelo original.\\xa0La RAG puede garantizar que una aplicación de IA generativa siempre tenga acceso a la información más actualizada. Como beneficio adicional, las fuentes adicionales a las que se accede a través de RAG son transparentes para los usuarios, lo que no ocurre con los conocimientos del modelo fundacional original.\\xa0\\n\\xa0\\n\\n\\n\\n\\n\\n\\n\\n\\n\\n\\n\\n\\n\\n\\n\\n\\n\\n\\n\\n\\n\\n\\n\\n\\n\\n\\n\\n\\n\\n\\n  \\n\\n\\n\\n    Arquitecturas de modelos de IA generativa y su evolución\\n\\n\\n\\n\\n\\n    \\n\\n\\n            \\n        \\n\\n\\n\\n\\nLos modelos de IA realmente generativa (modelos de aprendizaje profundo que pueden crear contenido bajo demanda de forma autónoma) han evolucionado en los últimos doce años aproximadamente. Entre las arquitecturas de modelos que han marcado un hito durante ese periodo se encuentran:\\nAutocodificadores variacionales (VAE), que impulsaron avances en el reconocimiento de imágenes, el procesamiento del lenguaje natural y la detección de anomalías.\\n\\xa0\\nRedes generativas adversativas (GAN) y modelos de difusión, que mejoraron la precisión de las aplicaciones anteriores y habilitaron algunas de las primeras soluciones de IA para la generación de imágenes fotorrealistas.\\n\\xa0\\nTransformadores, la arquitectura de modelos de aprendizaje profundo que está detrás de los modelos fundacionales y las soluciones de IA generativa más importantes de la actualidad.\\n\\n\\n\\n\\n\\n\\n      \\n\\n\\n\\n  \\n    Autocodificadores variacionales (VAE, por sus siglas en inglés)\\n\\n\\n\\n\\n\\n\\n    \\n\\n\\n    \\n\\n\\nUn autocodificador es un modelo de aprendizaje profundo que se compone de dos redes neuronales conectadas: una que codifica (o comprime) una gran cantidad de datos de capacitación no estructurados y no etiquetados en parámetros y otra que decodifica esos parámetros para reconstruir el contenido. Técnicamente, los autocodificadores pueden generar contenido nuevo, pero son más útiles para comprimir datos para su almacenamiento o transferencia, y descomprimirlos para su uso, que para la generación de contenido de alta calidad.\\nPresentados en 2013, los autocodificadores variacionales (VAE) pueden codificar datos como un autocodificador, pero descodifican múltiples variaciones nuevas del contenido. Al entrenar a una VAE para que genere variaciones hacia un objetivo concreto, puede \"concentrarse\" en contenidos más precisos y de mayor fidelidad a lo largo del tiempo. Las primeras aplicaciones de VAE incluían la detección de anomalías (por ejemplo, análisis de imágenes médicas) y la generación de lenguaje natural.\\n\\n\\n\\n\\n\\n      \\n\\n\\n\\n  \\n    Redes generativas adversativas (GAN)\\n\\n\\n\\n\\n\\n\\n    \\n\\n\\n    \\n\\n\\nLas GAN, presentadas en 2014, también están compuestas por dos redes neuronales: un generador, que genera nuevo contenido, y un discriminador, que evalúa la precisión y calidad de los datos generados. Estos algoritmos contradictorios incentivan al modelo a generar resultados de calidad cada vez mayor.\\nLas GAN se utilizan normalmente para la generación de imágenes y videos, pero pueden generar contenido realista y de alta calidad en varios dominios. Han demostrado ser especialmente eficaces en tareas como la transferencia de estilo (alterar el estilo de una imagen, por ejemplo, de una foto a un boceto a lápiz) y el aumento de datos (crear datos nuevos y sintéticos para aumentar el tamaño y la diversidad de un conjunto de datos de entrenamiento).\\n\\n\\n\\n\\n\\n      \\n\\n\\n\\n  \\n    Modelos de difusión\\n\\n\\n\\n\\n\\n\\n    \\n\\n\\n    \\n\\n\\nTambién presentados en 2014, los modelos de difusión funcionan agregando ruido a los datos de entrenamiento hasta que sean aleatorios e irreconocibles, y luego entrenan el algoritmo para difundir iterativamente el ruido y revelar un resultado deseado.\\nLos modelos de difusión tardan más tiempo en entrenarse que los VAE o GAN, pero en última instancia ofrecen un control más detallado sobre el resultado, especialmente para herramientas de generación de imágenes de alta calidad. DALL-E, la herramienta de generación de imágenes de Open AI, está impulsada por un modelo de difusión.\\n\\n\\n\\n\\n\\n      \\n\\n\\n\\n  \\n    Los transformadores\\n\\n\\n\\n\\n\\n\\n    \\n\\n\\n    \\n\\n\\nDocumentado por primera vez en un artículo de 2017 publicado por Ashish Vaswani y otros, los transformadores evolucionan el paradigma codificador-decodificador para dar un gran paso adelante en la forma en que se entrenan los modelos fundacionales y en la calidad y variedad de contenido que pueden producir. Estos modelos son el núcleo de la mayoría de las herramientas de IA generativa que ocupan los titulares en la actualidad, incluidas ChatGPT y GPT-4, Copilot, BERT, Bard y Midjourney, por nombrar algunas.\\nLos transformadores utilizan un concepto llamado atención (determinar y enfocarse en lo que es más importante sobre los datos dentro de una secuencia) para\\nprocesar secuencias completas de datos (por ejemplo, oraciones en lugar de palabras individuales) simultáneamente;\\n\\xa0\\ncapturar el contexto de los datos dentro de la secuencia;\\n\\xa0\\ncodificar los datos de entrenamiento en incorporaciones (también llamadas hiperparámetros) que representan los datos y su contexto.\\n\\nAdemás de permitir un entrenamiento más rápido, los transformadores sobresalen en el procesamiento de lenguaje natural (PLN) y la comprensión del lenguaje natural (CLN)), y pueden generar secuencias de datos más largas; por ejemplo, no solo respuestas a preguntas, sino poemas, artículos o documentos, con mayor precisión y mayor calidad que otros modelos de IA generativa profunda. Los modelos de transformadores también se pueden entrenar o ajustar para usar herramientas; por ejemplo, una aplicación de hoja de cálculo, HTML o un programa de dibujo, para generar contenido en un formato determinado.\\n\\xa0\\n\\n\\n\\n\\n\\n\\n\\n\\n\\n\\n\\n\\n\\n\\n\\n\\n\\n\\n\\n  \\n\\n\\n\\n    Qué puede crear la IA generativa\\n\\n\\n\\n\\n\\n    \\n\\n\\n                        \\n                    \\n\\n\\n\\n\\n\\n\\n\\nLa IA generativa puede crear muchos tipos de contenido en muchos dominios diferentes.\\xa0\\n\\n\\n\\n\\n\\n\\n\\n\\n        \\n\\n\\n\\n  \\n    Texto\\n\\n\\n\\n\\n\\n\\n    \\n\\n\\n    \\n\\n\\n\\nLos modelos generativos, especialmente aquellos basados en transformadores, pueden generar texto coherente y relevante para el contexto, desde instrucciones y documentación hasta folletos, correos electrónicos, textos para sitios web, blogs, artículos, informes, documentos e incluso escritura creativa. También pueden realizar tareas de escritura repetitivas o tediosas (redactar resúmenes de documentos o metadescripciones de páginas web), dejando tiempo a los redactores para trabajos más creativos y de mayor valor.\\n\\n\\n\\n\\n\\n\\n\\n\\n\\n        \\n\\n\\n\\n  \\n    Imágenes y video\\n\\n\\n\\n\\n\\n\\n    \\n\\n\\n    \\n\\n\\n\\nLa generación de imágenes, como DALL-E, Midjourney y Stable Diffusion, puede crear imágenes realistas o arte original; también puede realizar transferencia de estilo, traducción de imagen a imagen y otras tareas de edición de imágenes o mejora de imágenes. Las herramientas de video de IA generativa emergente pueden crear animaciones a partir de indicaciones de texto, y pueden aplicar efectos especiales al video existente de manera más rápida y rentable que otros métodos.\\n\\n\\n\\n\\n\\n\\n\\n\\n\\n        \\n\\n\\n\\n  \\n    Sonido, voz y música\\n\\n\\n\\n\\n\\n\\n    \\n\\n\\n    \\n\\n\\n\\nLos modelos generativos pueden sintetizar voz y contenido de audio de sonido natural para usarlos en chatbots de IA habilitados por voz y asistentes digitales, narración de audiolibros y otras aplicaciones. La misma tecnología puede generar música original que imita la estructura y el sonido de las composiciones hechas por profesionales.\\n\\n\\n\\n\\n\\n\\n\\n\\n\\n        \\n\\n\\n\\n  \\n    Código de software\\n\\n\\n\\n\\n\\n\\n    \\n\\n\\n    \\n\\n\\n\\nLa IA generativa puede generar código original, autocompletar fragmentos de código, traducir entre lenguajes de programación y resumir la funcionalidad del código. Permite a los desarrolladores crear prototipos, refactorizar y eliminar errores en aplicaciones rápidamente, al tiempo que ofrece una interfaz de lenguaje natural para tareas de programación.\\n\\n\\n\\n\\n\\n\\n\\n\\n\\n        \\n\\n\\n\\n  \\n    Diseño y arte\\n\\n\\n\\n\\n\\n\\n    \\n\\n\\n    \\n\\n\\n\\nLos modelos de IA generativa pueden generar obras de arte y diseño únicos, así como ayudar en el diseño gráfico. Las aplicaciones incluyen la generación dinámica de entornos, personajes o avatares, además de efectos especiales para simulaciones virtuales y videojuegos.\\n\\n\\n\\n\\n\\n\\n\\n\\n\\n        \\n\\n\\n\\n  \\n    Simulaciones y datos sintéticos.\\n\\n\\n\\n\\n\\n\\n    \\n\\n\\n    \\n\\n\\n\\nLos modelos de IA generativa pueden entrenarse para generar datos sintéticos o estructuras sintéticas basadas en datos reales o sintéticos. Por ejemplo, la IA generativa se aplica en el descubrimiento de fármacos para generar estructuras moleculares con las propiedades deseadas, lo que ayuda al diseño de nuevos compuestos farmacéuticos.\\n\\n\\n\\n\\n\\n\\n\\n\\n\\n\\n\\n\\n\\n\\n\\n\\n\\n\\n\\n\\n\\n\\n\\n\\n  \\n\\n\\n\\n    Beneficios de la IA generativa\\n\\n\\n\\n\\n\\n    \\n\\n\\n                        \\n                    \\n\\n\\n\\n\\n\\n\\n\\nEl beneficio obvio y general de la IA generativa es una mayor eficiencia. Debido a que puede generar contenido y respuestas bajo demanda, la IA generativa tiene el potencial de acelerar o automatizar tareas intensivas en mano de obra, reducir costos y liberar tiempo a los empleados para trabajos de mayor valor.\\nPero la IA generativa ofrece varios otros beneficios para personas y organizaciones.\\n\\n\\n\\n\\n\\n\\n\\n        \\n\\n\\n\\n  \\n    Creatividad mejorada\\n\\n\\n\\n\\n\\n\\n    \\n\\n\\n    \\n\\n\\n\\nLas herramientas de generación de inteligencia artificial pueden inspirar creatividad a través de una lluvia de ideas automatizada, dando lugar a múltiples versiones novedosas de contenido. Estas variaciones también pueden servir como puntos de partida o referencias que ayuden a escritores, artistas, diseñadores y otros creadores a superar los bloqueos creativos.\\n\\n\\n\\n\\n\\n\\n\\n\\n        \\n\\n\\n\\n  \\n    Toma de decisiones mejorada (y más rápida)\\n\\n\\n\\n\\n\\n\\n    \\n\\n\\n    \\n\\n\\n\\nLa IA generativa destaca en el análisis de grandes conjuntos de datos, la identificación de patrones y la extracción de insights significativos, y luego en la generación de hipótesis y recomendaciones basadas en esos conocimientos para apoyar a ejecutivos, analistas, investigadores y otros profesionales en la toma de decisiones más inteligentes y basadas en datos.\\n\\n\\n\\n\\n\\n\\n\\n\\n        \\n\\n\\n\\n  \\n    Personalización dinámica\\n\\n\\n\\n\\n\\n\\n    \\n\\n\\n    \\n\\n\\n\\nEn aplicaciones como los sistemas de recomendación y la creación de contenido, la IA generativa puede analizar las preferencias y el historial del usuario y generar contenido personalizado en tiempo real, lo que lleva a una experiencia de usuario más personalizada y atractiva.\\n\\n\\n\\n\\n\\n\\n\\n\\n        \\n\\n\\n\\n  \\n    Disponibilidad constante\\n\\n\\n\\n\\n\\n\\n    \\n\\n\\n    \\n\\n\\n\\nLa IA generativa opera continuamente sin fatiga, proporcionando disponibilidad las 24 horas para tareas como chatbots de atención al cliente y respuestas automatizadas.\\n\\n\\n\\n\\n\\n\\n\\n\\n\\n\\n\\n\\n\\n\\n\\n\\n\\n\\n\\n\\n\\n\\n\\n\\n\\n\\n\\n\\n\\n\\n\\n\\n\\n  \\n\\n\\n\\n    Casos de uso de IA generativa\\n\\n\\n\\n\\n\\n    \\n\\n\\n                        \\n                    \\n\\n\\n\\n\\n\\n\\n\\nLos siguientes son solo algunos de los casos de uso de la IA para las empresas. A medida que la tecnología se desarrolle y las organizaciones incorporen estas herramientas a sus flujos de trabajo, podemos esperar ver muchas más.\\xa0\\n\\n\\n\\n\\n\\n\\n\\n\\n        \\n\\n\\n\\n  \\n    Experiencia del cliente\\n\\n\\n\\n\\n\\n\\n    \\n\\n\\n    \\n\\n\\n\\nLas organizaciones de marketing pueden ahorrar tiempo y ampliar su producción de contenido mediante el uso de herramientas de IA generativa para redactar textos para blogs, páginas web, material publicitario, correos electrónicos y más. Pero las soluciones de IA generativa también pueden crear textos e imágenes de marketing muy personalizados en tiempo real en función de cuándo, dónde y a quién se entrega el anuncio. Y potenciará chatbots y agentes virtuales de próxima generación que pueden dar respuestas personalizadas e incluso iniciar acciones en nombre del cliente, un avance significativo en comparación con la generación anterior de modelos de IA conversacional entrenados con datos más limitados para tareas muy específicas.\\n\\n\\n\\n\\n\\n\\n\\n\\n\\n        \\n\\n\\n\\n  \\n    Desarrollo de software y modernización de aplicaciones\\n\\n\\n\\n\\n\\n\\n    \\n\\n\\n    \\n\\n\\n\\nLas herramientas de generación de código pueden automatizar y acelerar el proceso de escritura de código nuevo. La generación de código también tiene el potencial de acelerar drásticamente la modernización de aplicaciones automatizando gran parte de la programación repetitiva necesaria para modernizar las aplicaciones heredadas para entornos de nube híbrida.\\n\\n\\n\\n\\n\\n\\n\\n\\n\\n        \\n\\n\\n\\n  \\n    Trabajo digital\\n\\n\\n\\n\\n\\n\\n    \\n\\n\\n    \\n\\n\\n\\nLa IA generativa puede redactar o revisar rápidamente contratos, facturas, recibos y otros \"trámites\" digitales o físicos para que los empleados que la usan o gestionan puedan concentrarse en tareas de nivel superior.\\xa0Esto puede acelerar los flujos de trabajo en prácticamente todas las áreas empresariales, incluidos recursos humanos, asuntos legales, adquisiciones y finanzas.\\n\\n\\n\\n\\n\\n\\n\\n\\n\\n        \\n\\n\\n\\n  \\n    Ciencia, ingeniería e investigación\\n\\n\\n\\n\\n\\n\\n    \\n\\n\\n    \\n\\n\\n\\nLos modelos de IA generativa pueden ayudar a los científicos e ingenieros a proponer soluciones novedosas a problemas complejos. Por ejemplo, en la atención médica, los modelos generativos se pueden aplicar para sintetizar imágenes médicas para entrenar y probar sistemas de imágenes médicas.\\n\\n\\n\\n\\n\\n\\n\\n\\n\\n\\n\\n\\n\\n\\n\\n\\n\\n\\n\\n\\n\\n\\n\\n\\n  \\n\\n\\n\\n    Desafíos, limitaciones y riesgos\\n\\n\\n\\n\\n\\n    \\n\\n\\n                        \\n                    \\n\\n\\n\\n\\n\\n\\n\\nLa IA generativa ha logrado avances notables en un periodo relativamente corto, pero aún representa retos y riesgos importantes para los desarrolladores, los usuarios y el público en general. A continuación, se detallan algunos de los problemas más graves y cómo se están enfrentando.\\xa0\\n\\n\\n\\n\\n\\n\\n\\n        \\n\\n\\n\\n  \\n    \"Alucinaciones\" y otros resultados inexactos\\n\\n\\n\\n\\n\\n\\n    \\n\\n\\n    \\n\\n\\n\\nUna alucinación de IA es un resultado de IA generativa que no tiene sentido o es totalmente inexacta, pero, con demasiada frecuencia, parece completamente plausible. El ejemplo clásico es cuando un abogado utilizó una herramienta de IA generativa para la investigación en preparación para un caso de alto perfil, y la herramienta \"produjo\" varios casos de ejemplo, completos con citas y atribuciones, que eran completamente ficticios (enlace externo a ibm.com ).\\nAlgunos profesionales ven las alucinaciones como una consecuencia inevitable en el equilibrio de la precisión de un modelo y sus capacidades creativas. Pero los desarrolladores pueden implementar medidas preventivas, llamadas medidas de seguridad, que restringen el modelo a fuentes de datos relevantes o confiables.\\xa0La evaluación y el ajuste continuos también pueden ayudar a reducir las alucinaciones y las imprecisiones.\\n\\n\\n\\n\\n\\n\\n\\n\\n        \\n\\n\\n\\n  \\n    Resultados inconsistentes\\n\\n\\n\\n\\n\\n\\n    \\n\\n\\n    \\n\\n\\n\\nDebido a la naturaleza variacional o probabilística de los modelos de IA generativa, las mismas entradas pueden dar lugar a resultados un poco o muy diferentes. Esto puede ser indeseable en ciertas aplicaciones, como los chatbots de atención al cliente, donde se esperan o desean resultados coherentes. A través de la ingeniería rápida, al ajustar o redactar de forma iterativa las instrucciones, los usuarios pueden llegar a instrucciones que ofrezcan de forma coherente los resultados que desean de sus aplicaciones de IA generativa.\\n\\n\\n\\n\\n\\n\\n\\n\\n        \\n\\n\\n\\n  \\n    Sesgo\\n\\n\\n\\n\\n\\n\\n    \\n\\n\\n    \\n\\n\\n\\nLos modelos generativos pueden aprender los sesgos sociales presentes en los datos de entrenamiento, o en los datos etiquetados, las fuentes de datos externas o los evaluadores humanos utilizados para ajustar el modelo, y generar contenido sesgado, injusto u ofensivo como resultado. Para evitar resultados sesgados de sus modelos, \\xa0los desarrolladores deben garantizar que los datos de entrenamiento sean diversos, establecer pautas para evitar sesgos durante el entrenamiento y el ajuste, así como evaluar continuamente los resultados del modelo para determinar el sesgo y la precisión.\\n\\n\\n\\nMás información sobre el sesgo de la IA\\n            \\n        \\n\\n\\n\\n\\n\\n        \\n\\n\\n\\n  \\n    Falta de explicabilidad y métricas\\n\\n\\n\\n\\n\\n\\n    \\n\\n\\n    \\n\\n\\n\\nMuchos modelos de IA generativa son modelos de \"caja negra\", lo que significa que puede ser desafiante o imposible entender sus procesos de toma de decisiones; incluso los ingenieros o científicos de datos que crean el algoritmo subyacente pueden entender o explicar qué es exactamente lo que está sucediendo dentro de este y cómo llega a un resultado específico. Las prácticas y técnicas explicables de IA pueden ayudar a los profesionales y usuarios a comprender y confiar en los procesos y resultados de los modelos generativos.\\nLa evaluación y comparación de la calidad del contenido generado también puede ser un reto. Es posible que las métricas de evaluación tradicionales no capturen los aspectos matizados de la creatividad, la coherencia o la relevancia. El desarrollo de métodos de evaluación sólidos y confiables para la IA generativa sigue siendo un área activa de investigación.\\n\\n\\n\\n\\n\\n\\n\\n\\n        \\n\\n\\n\\n  \\n    Amenazas a la seguridad, la privacidad y la propiedad intelectual\\n\\n\\n\\n\\n\\n\\n    \\n\\n\\n    \\n\\n\\n\\nLos modelos de IA generativa pueden aprovecharse para generar correos electrónicos de phishing convincentes, identidades falsas u otro contenido malicioso que pueda engañar a los usuarios para que tomen medidas que comprometan la seguridad y la privacidad de los datos. Los desarrolladores y usuarios deben tener cuidado de que los datos ingresados en el modelo (durante el ajuste o como parte de una instrucción) no expongan su propia propiedad intelectual (IP) o cualquier información protegida como IP por otras organizaciones. Y necesitan monitorear los resultados en busca de contenido nuevo que exponga su propia IP o viole las protecciones de IP de otros.\\n\\n\\n\\n\\n\\n\\n\\n\\n        \\n\\n\\n\\n  \\n    Deepfakes\\n\\n\\n\\n\\n\\n\\n    \\n\\n\\n    \\n\\n\\n\\nLos deepfakes son imágenes, videos o audio generados o manipulados por IA y creados para convencer a las personas de que están viendo, mirando o escuchando a alguien hacer o decir algo que nunca hizo o dijo. Se encuentran entre los ejemplos más escalofriantes de cómo el poder de la IA generativa puede aplicarse con intenciones maliciosas.\\nLa mayoría de las personas están familiarizadas con los deepfakes creados para dañar la reputación o difundir información errónea. Más recientemente, los delincuentes cibernéticos han desplegado deepfakes como parte de ataques cibernéticos (por ejemplo, voces falsas en estafas de phishing de voz) o esquemas de fraude financiero.\\nLos investigadores están trabajando arduamente en modelos de IA que puedan detectar deepfakes con mayor precisión. Mientras tanto, la educación de los usuarios y las mejores prácticas (por ejemplo, no compartir material polémico no verificado o no contrastado) pueden ayudar a limitar el daño que pueden causar los deepfakes.\\n\\n\\n\\n\\n\\n\\n\\n\\n\\n\\n\\n\\n\\n\\n\\n\\n\\n\\n\\n\\n\\n\\n  \\n\\n\\n\\n    Una breve historia de la IA generativa\\n\\n\\n\\n\\n\\n    \\n\\n\\n            \\n        \\n\\n\\n\\nEl término “IA generativa” explotó en la conciencia pública en la década de 2020, pero la IA generativa ha sido parte de nuestras vidas durante décadas, y la tecnología de IA generativa de hoy se basa en los avances del aprendizaje automático desde principios del siglo XX. Una historia representativa no exhaustiva de la IA generativa podría incluir algunas de las siguientes fechas:\\nAño 1964: El científico informático del MIT Joseph Weizenbaum desarrolla ELIZA, una aplicación de procesamiento de lenguaje natural basada en texto. ELIZA, el primer chatbot (entonces denominado \"chatterbot\"), utilizaba secuencias de comandos de concordancia de patrones para responder a entradas de lenguaje natural con respuestas de texto empáticas.\\n\\xa0\\n1999: Nvidia envía GeoForce, la primera unidad de procesamiento gráfico. Originalmente desarrolladas para ofrecer gráficos en movimiento fluido para videojuegos, las GPU se habían convertido en la plataforma de facto para desarrollar modelos de IA y minería de criptomonedas.\\n\\xa0\\n2004: aparece por primera vez el autocompletado de Google, que genera posibles siguientes palabras o frases a medida que los usuarios ingresan sus términos de búsqueda. El ejemplo relativamente moderno de IA generativa se basa en la Cadena de Markov, un modelo matemático desarrollado en 1906.\\n\\xa0\\n2013: Aparecen los primeros autocodificadores variacionales (VAE).\\n\\xa0\\n2014: Aparecen las primeras redes generativas adversariales (GAN) y modelos de difusión.\\n\\xa0\\n2017: Ashish Vaswani, un equipo de Google Brain, y un grupo de la Universidad de Toronto publican \"Attention is All You Need\", un documento sobre los principios de los modelos transformadores, ampliamente reconocidos por habilitar los modelos fundacionales más potentes y las herramientas de IA generativa que se están desarrollando en la actualidad.\\n\\xa0\\n2019-2020: OpenAI lanza sus modelos de lenguaje grande GPT (Generative Pretrained Transformer), GPT-2 y GPT-3.\\n\\n2022: OpenAI presenta ChatGPT, un frontend para GPT-3 que genera oraciones complejas, coherentes y contextuales y contenido de formato largo en respuesta a las indicaciones del usuario final.\\n\\nCon la notoriedad y popularidad de ChatGPT, que abrió las compuertas, los desarrollos de IA generativa y los lanzamientos de productos se han producido a un ritmo vertiginoso, incluidos los lanzamientos de Google Bard (ahora Gemini), Microsoft Copilot, IBM watsonx.ai, y el modelo de lenguaje de gran tamaño y de código abierto Llama-2 de Meta.\\n\\n\\n\\n\\n\\n\\n\\n\\n\\n\\n\\n            Soluciones relacionadas\\n        \\n\\n\\n\\n\\n            \\n\\n\\n\\n  \\n    IBM\\xa0watsonx.ai\\n\\n\\n\\n\\n\\n\\n    \\n\\n\\n        \\n\\n\\n\\nEntrene, valide, ajuste y despliegue IA generativa, modelos fundacionales y capacidades de aprendizaje automático con facilidad, y cree aplicaciones de IA en una fracción del tiempo con un fragmento de los datos.\\xa0IBM watsonx.ai reúne nuevas capacidades de IA generativa, impulsadas por modelos fundacionales y aprendizaje automático tradicional en un estudio que abarca el ciclo de vida de la IA.\\xa0\\n\\n\\n\\n\\n\\n            Explore IBM watson.ai\\n            \\n        \\n\\n            Pruebe watson.ai gratis\\n            \\n        \\n\\n\\n\\n\\n\\n\\n            \\n\\n\\n\\n  \\n    IBM watsonx™\\xa0Assistant\\n\\n\\n\\n\\n\\n\\n    \\n\\n\\n        \\n\\n\\n\\nOfrezca experiencias excepcionales a los clientes en cada interacción, a los agentes de centros de atención telefónica que necesitan asistencia e incluso a los empleados que necesitan información. Escale las respuestas en lenguaje natural con base en el contenido empresarial para impulsar interacciones orientadas a los resultados y respuestas rápidas y precisas.\\n\\n\\n\\n\\n\\n            Conozca IBM watsonx Assistant\\n            \\n        \\n\\n\\n\\n\\n\\n\\n            \\n\\n\\n\\n  \\n    Soluciones de IA\\n\\n\\n\\n\\n\\n\\n    \\n\\n\\n        \\n\\n\\n\\nConstruya el futuro de su empresa con soluciones de IA en las que puede confiar.\\xa0Con una experiencia inigualable en la resolución de los retos empresariales más complejos del mundo, IBM puede ayudarle, esté donde esté en su travesía hacia la IA.\\n\\n\\n\\n\\n\\n            Explore las soluciones de IA\\n            \\n        \\n\\n\\n\\n\\n\\n\\n\\n\\n\\n\\n\\n  \\n\\n\\n\\n    Recursos\\n\\n\\n\\n\\n\\n    \\n\\n\\n                \\n            \\n\\n\\n\\n                Educación en IA\\n            \\n\\n                Academia de IA de IBM\\n            \\nNuestra nueva experiencia educativa insignia de IA empresarial, AI Academy, ayuda a los líderes empresariales a obtener los conocimientos necesarios para priorizar las inversiones en IA que pueden impulsar el crecimiento.\\n\\nPóngase en marcha\\n\\n\\n\\n\\n                IBM Institute of Business Value\\n            \\n\\n                IA generativa\\n            \\nNuestra investigación basada en datos identifica cómo las empresas pueden localizar y explotar las oportunidades en el campo de la IA en constante evolución y expansión.\\n\\nExplore la investigación\\n\\n\\n\\n\\n                Liderazgo de opinión\\n            \\n\\n                La guía del CEO para la IA generativa\\n            \\nCómo los CEO pueden equilibrar el valor que la IA generativa puede crear con la inversión que exige y los riesgos que representa.\\n\\nLea la guía\\n\\n\\n\\n\\n                Desarrollador de IBM\\n            \\n\\n                Práctica con la IA generativa\\n            \\nAprenda los conceptos fundamentales y construya sus habilidades con laboratorios prácticos, cursos, proyectos guiados, ensayos y mucho más.\\n\\nComience a aprender\\n\\n\\n\\n\\n                Libro electrónico\\n            \\n\\n                Cómo elegir el modelo fundacional adecuado\\n            \\nElegir el modelo incorrecto puede afectar gravemente a su negocio. Aprenda a dimensionar el modelo más adecuado para su caso de uso.\\n\\nRegístrese y lea\\n\\n\\n\\n\\n                Tema relacionado\\n            \\n\\n                ¿Qué es el aprendizaje profundo?\\n            \\nEl aprendizaje profundo permite a los sistemas agrupar datos y hacer predicciones con una precisión increíble.\\n\\nMás información\\n\\n\\n\\n\\n\\n\\n\\n\\n\\n\\n\\n\\n\\n\\n\\n\\n\\n\\nDé el siguiente paso\\n\\n\\n\\n\\nEntrene, valide, ajuste y despliegue IA generativa, modelos fundacionales y capacidades de aprendizaje automático con IBM® watsonx.ai, un estudio empresarial de próxima generación para creadores de IA. Diseñe aplicaciones de IA en menos tiempo y con menos datos.\\n\\n\\n\\n\\n\\nExplore watsonx.ai\\n\\n\\nReserve una demostración en vivo\\n\\n\\n\\n\\n\\n\\n\\n\\n\\n\\n\\n\\n\\n\\n\\n\\n\\n\\n\\n\\n\\n\\n\\n\\n\\n\\n                            \\n\\n\\n\\n  \\n    Notas de pie de página\\n\\n\\n\\n\\n\\n\\n    \\n\\n\\n                        \\n\\n\\n\\n\\n\\n1\\xa0The state of AI in 2023: Generative AI\\'s breakout year\\xa0(enlace externo a ibm.com), McKinsey, 1 de agosto de 2023\\n2\\xa0Gartner afirma que más del 80\\xa0% de las empresas habrán utilizado API de IA generativa o desplegado aplicaciones generativas habilitadas para IA para 2026\\xa0(el enlace reside fuera de ibm.com),\\xa0Gartner, 11 de octubre de 2023\\n\\xa0\\n\\n\\n\\n\\n\\n\\n\\n\\n\\n\\n\\n\\n\\n\\n\\n\\n\\n\\n\\n\\n\\n\\n\\n\\n\\n\\n\\n\\n\\n\\n\\n\\n\\n\\n\\n\\n\\n\\n\\n\\n\\n\\n\\n\\n\\n\\n\\n\\n\\n\\n\\n\\n\\n\\n\\n\\n\\n\\n\\n\\n\\n\\n\\n\\n\\n\\n\\n\\n\\n\\n\\n\\n\\n\\n\\n')]"
      ]
     },
     "execution_count": 13,
     "metadata": {},
     "output_type": "execute_result"
    }
   ],
   "source": [
    "pagina"
   ]
  },
  {
   "cell_type": "code",
   "execution_count": 14,
   "id": "93c1687d-6fa0-4231-82c7-12e5615e23a0",
   "metadata": {},
   "outputs": [],
   "source": [
    "with open(\"pagina.txt\", \"w\", encoding='utf-8') as archivo:\n",
    "    archivo.write(pagina[0].page_content)"
   ]
  },
  {
   "cell_type": "markdown",
   "id": "56fa7c82-5bd4-47c3-b6f4-9c0ea2400fc0",
   "metadata": {},
   "source": [
    "## Dividir Documentos"
   ]
  },
  {
   "cell_type": "code",
   "execution_count": 15,
   "id": "ea58c71c-ecc4-4abe-b081-e9d4cf19e200",
   "metadata": {},
   "outputs": [],
   "source": [
    "from langchain.text_splitter import CharacterTextSplitter"
   ]
  },
  {
   "cell_type": "code",
   "execution_count": 16,
   "id": "3a13a28e-0ed4-43a6-a0d6-0792dff5bcd6",
   "metadata": {},
   "outputs": [],
   "source": [
    "from langchain.text_splitter import CharacterTextSplitter\n",
    "# Vamos a dividir el documento cada 500 caracteres\n",
    "# Un overlap de 75 lo que dice que usaremos 75 caracteres del chunk anterior\n",
    "c_splitter = CharacterTextSplitter(\n",
    "    chunk_size=500,\n",
    "    chunk_overlap=75,\n",
    "    separator = ' '\n",
    ")"
   ]
  },
  {
   "cell_type": "code",
   "execution_count": 17,
   "id": "40ce0e16-91ca-4b2b-acbe-2b3b82afcd59",
   "metadata": {},
   "outputs": [],
   "source": [
    "docs = c_splitter.split_documents(pagina)"
   ]
  },
  {
   "cell_type": "code",
   "execution_count": 18,
   "id": "178d472e-cba9-482a-99ee-3ac93d018745",
   "metadata": {},
   "outputs": [
    {
     "data": {
      "text/plain": [
       "74"
      ]
     },
     "execution_count": 18,
     "metadata": {},
     "output_type": "execute_result"
    }
   ],
   "source": [
    "len(docs)"
   ]
  },
  {
   "cell_type": "code",
   "execution_count": 19,
   "id": "50b707da-b8f3-4d00-bc0f-0ed44cac768a",
   "metadata": {},
   "outputs": [
    {
     "name": "stdout",
     "output_type": "stream",
     "text": [
      "flujos de trabajo internos y enriquecer sus productos y servicios. Según un estudio de la consultoría de gestión McKinsey, un tercio de las organizaciones ya utilizan IA generativa de forma regular en al menos una función empresarial.¹ El analista del sector Gartner prevé que más del 80 % de las organizaciones habrán desplegado aplicaciones de IA generativa o utilizado interfaces de programación de aplicaciones (API) de IA generativa para 2026.2\n",
      " \n",
      "\n",
      "\n",
      "\n",
      "\n",
      "\n",
      "\n",
      "\n",
      "\n",
      "\n",
      "\n",
      "\n",
      " Libro electrónico\n",
      " \n",
      "\n",
      " IA generativa\n"
     ]
    }
   ],
   "source": [
    "print(docs[4].page_content)"
   ]
  },
  {
   "cell_type": "code",
   "execution_count": null,
   "id": "d6d62a88-ca7a-4066-be0d-fe06d5d20c7b",
   "metadata": {},
   "outputs": [],
   "source": [
    "print(docs[4].page_content)"
   ]
  },
  {
   "cell_type": "code",
   "execution_count": null,
   "id": "d907989c-b133-4a83-90b8-fbed634b10ef",
   "metadata": {},
   "outputs": [],
   "source": []
  },
  {
   "cell_type": "markdown",
   "id": "c3a06b33-25e1-4895-87d4-d067c9c606f1",
   "metadata": {},
   "source": [
    "## Embeddings"
   ]
  },
  {
   "cell_type": "code",
   "execution_count": 20,
   "id": "6f86764a-484e-4d42-a6b9-542bc4440d0c",
   "metadata": {},
   "outputs": [],
   "source": [
    "!pip install -U langchain-openai -q"
   ]
  },
  {
   "cell_type": "code",
   "execution_count": 21,
   "id": "3e77e4c1-c8c2-4dd6-8f22-76cc2f49b6b9",
   "metadata": {},
   "outputs": [],
   "source": [
    "from langchain_openai import OpenAIEmbeddings"
   ]
  },
  {
   "cell_type": "code",
   "execution_count": 22,
   "id": "a116d7ae-0d8b-44ca-a360-8fb995f9d9f6",
   "metadata": {},
   "outputs": [],
   "source": [
    "embedding = OpenAIEmbeddings()"
   ]
  },
  {
   "cell_type": "markdown",
   "id": "4424122c-99b2-4d7a-bf09-0755f88924a1",
   "metadata": {},
   "source": [
    "## Vectorstores"
   ]
  },
  {
   "cell_type": "code",
   "execution_count": 23,
   "id": "288bff9b-0ce0-417a-a636-a4f7ca2468c6",
   "metadata": {},
   "outputs": [],
   "source": [
    "!pip install chromadb -q"
   ]
  },
  {
   "cell_type": "code",
   "execution_count": 24,
   "id": "6f388c5c-0ba5-4c33-8fb2-e2dc42bbca81",
   "metadata": {},
   "outputs": [],
   "source": [
    "from langchain.vectorstores import Chroma"
   ]
  },
  {
   "cell_type": "code",
   "execution_count": 25,
   "id": "ca6153ea-3b0d-4f97-901f-d1306718c579",
   "metadata": {},
   "outputs": [
    {
     "name": "stdout",
     "output_type": "stream",
     "text": [
      "El directorio existente fue borrado\n",
      "Directorio de persistencia preparado\n"
     ]
    }
   ],
   "source": [
    "import os \n",
    "import shutil\n",
    "\n",
    "# Obtiene el directorio actual donde se encuentra el Jupyter Notebook\n",
    "current_directory = os.getcwd()\n",
    "\n",
    "# Definimos el directorio de persistencia como una subcarpeta del directorio actual\n",
    "persist_directory = os.getcwd()\n",
    "\n",
    "# Vericamos si el directorio existe y si contiene archivos\n",
    "if os.path.exists(persist_directory) and os.listdir(persist_directory):\n",
    "    # Si el directorio existe y no esta vacio, lo borra\n",
    "    shutil.rmtree(persist_directory)\n",
    "    print(\"El directorio existente fue borrado\")\n",
    "\n",
    "# Volvemos a crear el directorio vacío\n",
    "os.makedirs(persist_directory, exist_ok=True)\n",
    "print(\"Directorio de persistencia preparado\")\n",
    "\n"
   ]
  },
  {
   "cell_type": "code",
   "execution_count": 27,
   "id": "a6bc730c-0164-419d-bff3-2c5fd16393b9",
   "metadata": {},
   "outputs": [],
   "source": [
    "vectordb = Chroma.from_documents(\n",
    "    documents= docs,\n",
    "    embedding = embedding,\n",
    "    persist_directory= persist_directory\n",
    "\n",
    ")\n",
    "    "
   ]
  },
  {
   "cell_type": "code",
   "execution_count": 29,
   "id": "8bf0c913-870b-4db3-b66e-11b30de619ce",
   "metadata": {},
   "outputs": [
    {
     "name": "stdout",
     "output_type": "stream",
     "text": [
      "74\n"
     ]
    }
   ],
   "source": [
    "print(vectordb._collection.count())"
   ]
  },
  {
   "cell_type": "markdown",
   "id": "97b8cdf3-8992-44a5-b5ac-549bd75398b9",
   "metadata": {},
   "source": [
    "## Similarity Search"
   ]
  },
  {
   "cell_type": "code",
   "execution_count": 30,
   "id": "78f0d5e1-66ee-4d76-bea4-cdd7120ccbfe",
   "metadata": {},
   "outputs": [],
   "source": [
    "question = \"Que es la IA generativa?\""
   ]
  },
  {
   "cell_type": "code",
   "execution_count": 31,
   "id": "a17cf949-7e0d-46aa-9940-ed261087893d",
   "metadata": {},
   "outputs": [],
   "source": [
    "resultados = vectordb.similarity_search(question,k=5)"
   ]
  },
  {
   "cell_type": "code",
   "execution_count": 32,
   "id": "8ed61d57-c60a-4280-91bd-32a1422418ee",
   "metadata": {},
   "outputs": [
    {
     "data": {
      "text/plain": [
       "5"
      ]
     },
     "execution_count": 32,
     "metadata": {},
     "output_type": "execute_result"
    }
   ],
   "source": [
    "len(resultados)"
   ]
  },
  {
   "cell_type": "code",
   "execution_count": 33,
   "id": "60307826-b671-4379-bc4e-0901105f9424",
   "metadata": {},
   "outputs": [
    {
     "data": {
      "text/plain": [
       "[Document(metadata={'description': 'La IA generativa es la inteligencia artificial (IA) que puede crear contenidos originales en respuesta a las indicaciones o peticiones de un usuario.', 'language': 'es', 'source': 'https://www.ibm.com/mx-es/topics/generative-ai', 'title': '¿Qué es la IA generativa? | IBM'}, page_content='es la IA generativa?\\n\\n\\n\\n\\n\\n \\n\\n\\n \\n \\n\\n\\n\\n\\nLa IA generativa, a veces llamada gen AI,\\xa0es inteligencia artificial (IA) que puede crear contenido original, como texto, imágenes, video, audio o código de software, en respuesta a una instrucción o solicitud de un usuario.\\n\\n\\n\\n\\n\\n\\nLa IA generativa se basa en sofisticados modelos de aprendizaje automático llamados modelos de aprendizaje profundo , algoritmos que simulan los procesos de aprendizaje y la toma de decisiones del cerebro humano. Estos modelos'),\n",
       " Document(metadata={'description': 'La IA generativa es la inteligencia artificial (IA) que puede crear contenidos originales en respuesta a las indicaciones o peticiones de un usuario.', 'language': 'es', 'source': 'https://www.ibm.com/mx-es/topics/generative-ai', 'title': '¿Qué es la IA generativa? | IBM'}, page_content='¿Qué es la IA generativa? | IBM\\n\\n\\n\\n\\n\\n\\n\\n\\n\\n\\n\\n\\n\\n\\n\\n\\n\\n\\n\\n\\n\\n\\n\\n\\n\\n\\n\\n\\n\\n\\n\\n\\n\\n\\n\\n\\n\\n\\n\\n\\n\\n\\n\\n\\n\\n\\n\\n\\n\\n\\n\\n\\n\\n\\n\\n\\n\\n\\n\\n\\n\\n\\n\\n\\n\\n\\n\\n\\n\\n\\n\\nInicio\\n\\n\\n\\n\\nTemas\\n\\n\\n\\nIA generativa\\n\\n\\n\\n \\n\\n\\n\\n \\n ¿Qué es la IA generativa?\\xa0\\n\\n\\n\\n\\n\\n\\n \\n\\n\\n \\n\\n\\n\\n\\nDescubra la IA generativa con watsonx.ai\\n\\n\\nSuscríbase para recibir actualizaciones sobre IA\\n\\n\\n\\n\\n\\n\\n\\n\\n\\n\\n\\n\\n\\n\\n\\n\\n\\n\\n\\n\\n\\n\\n\\n\\n\\n\\n\\n\\n\\n\\n\\n\\n\\n\\n\\n\\n\\nPublicado: 22 de marzo de 2024\\nColaboradores: Cole Stryker, Mark Scapicchio\\n\\n\\n\\n\\n\\n\\n\\n\\n\\n\\n \\n\\n\\n\\n ¿Qué es la IA generativa?\\n\\n\\n\\n\\n\\n \\n\\n\\n \\n \\n\\n\\n\\n\\nLa IA generativa, a veces llamada'),\n",
       " Document(metadata={'description': 'La IA generativa es la inteligencia artificial (IA) que puede crear contenidos originales en respuesta a las indicaciones o peticiones de un usuario.', 'language': 'es', 'source': 'https://www.ibm.com/mx-es/topics/generative-ai', 'title': '¿Qué es la IA generativa? | IBM'}, page_content='IA generativa y su evolución\\n\\n\\n\\n\\n\\n \\n\\n\\n \\n \\n\\n\\n\\n\\nLos modelos de IA realmente generativa (modelos de aprendizaje profundo que pueden crear contenido bajo demanda de forma autónoma) han evolucionado en los últimos doce años aproximadamente. Entre las arquitecturas de modelos que han marcado un hito durante ese periodo se encuentran:\\nAutocodificadores variacionales (VAE), que impulsaron avances en el reconocimiento de imágenes, el procesamiento del lenguaje natural y la detección de anomalías.\\n\\xa0\\nRedes'),\n",
       " Document(metadata={'description': 'La IA generativa es la inteligencia artificial (IA) que puede crear contenidos originales en respuesta a las indicaciones o peticiones de un usuario.', 'language': 'es', 'source': 'https://www.ibm.com/mx-es/topics/generative-ai', 'title': '¿Qué es la IA generativa? | IBM'}, page_content='de software\\n\\n\\n\\n\\n\\n\\n \\n\\n\\n \\n\\n\\n\\nLa IA generativa puede generar código original, autocompletar fragmentos de código, traducir entre lenguajes de programación y resumir la funcionalidad del código. Permite a los desarrolladores crear prototipos, refactorizar y eliminar errores en aplicaciones rápidamente, al tiempo que ofrece una interfaz de lenguaje natural para tareas de programación.\\n\\n\\n\\n\\n\\n\\n\\n\\n\\n \\n\\n\\n\\n \\n Diseño y arte\\n\\n\\n\\n\\n\\n\\n \\n\\n\\n \\n\\n\\n\\nLos modelos de IA generativa pueden generar obras de arte y diseño'),\n",
       " Document(metadata={'description': 'La IA generativa es la inteligencia artificial (IA) que puede crear contenidos originales en respuesta a las indicaciones o peticiones de un usuario.', 'language': 'es', 'source': 'https://www.ibm.com/mx-es/topics/generative-ai', 'title': '¿Qué es la IA generativa? | IBM'}, page_content='En la mayoría de los casos, la IA generativa opera en tres fases:\\xa0\\nEntrenamiento, para crear un modelo fundacional que pueda servir como base de múltiples aplicaciones de IA generativa.\\n\\nAjuste, para adaptar el modelo fundacional a una aplicación de IA generativa específica.\\n\\nGeneración, evaluación y reajuste, para evaluar el resultado de la aplicación de IA generativa, y mejorar continuamente su calidad y precisión.\\n\\n\\n\\n\\n\\n\\n\\n\\n\\n\\n \\n\\n\\n\\n \\n Capacitación\\n\\n\\n\\n\\n\\n\\n \\n\\n\\n \\n\\n\\n\\nLa IA generativa')]"
      ]
     },
     "execution_count": 33,
     "metadata": {},
     "output_type": "execute_result"
    }
   ],
   "source": [
    "resultados"
   ]
  },
  {
   "cell_type": "code",
   "execution_count": 34,
   "id": "8806780c-dece-48f5-a7ec-950f5e8b273c",
   "metadata": {},
   "outputs": [
    {
     "name": "stdout",
     "output_type": "stream",
     "text": [
      "es la IA generativa?\n",
      "\n",
      "\n",
      "\n",
      "\n",
      "\n",
      " \n",
      "\n",
      "\n",
      " \n",
      " \n",
      "\n",
      "\n",
      "\n",
      "\n",
      "La IA generativa, a veces llamada gen AI, es inteligencia artificial (IA) que puede crear contenido original, como texto, imágenes, video, audio o código de software, en respuesta a una instrucción o solicitud de un usuario.\n",
      "\n",
      "\n",
      "\n",
      "\n",
      "\n",
      "\n",
      "La IA generativa se basa en sofisticados modelos de aprendizaje automático llamados modelos de aprendizaje profundo , algoritmos que simulan los procesos de aprendizaje y la toma de decisiones del cerebro humano. Estos modelos\n"
     ]
    }
   ],
   "source": [
    "print(resultados[0].page_content)"
   ]
  },
  {
   "cell_type": "code",
   "execution_count": 35,
   "id": "1a684e60-24a4-4dd5-9ba8-4b8c89893c9b",
   "metadata": {},
   "outputs": [
    {
     "name": "stdout",
     "output_type": "stream",
     "text": [
      "¿Qué es la IA generativa? | IBM\n",
      "\n",
      "\n",
      "\n",
      "\n",
      "\n",
      "\n",
      "\n",
      "\n",
      "\n",
      "\n",
      "\n",
      "\n",
      "\n",
      "\n",
      "\n",
      "\n",
      "\n",
      "\n",
      "\n",
      "\n",
      "\n",
      "\n",
      "\n",
      "\n",
      "\n",
      "\n",
      "\n",
      "\n",
      "\n",
      "\n",
      "\n",
      "\n",
      "\n",
      "\n",
      "\n",
      "\n",
      "\n",
      "\n",
      "\n",
      "\n",
      "\n",
      "\n",
      "\n",
      "\n",
      "\n",
      "\n",
      "\n",
      "\n",
      "\n",
      "\n",
      "\n",
      "\n",
      "\n",
      "\n",
      "\n",
      "\n",
      "\n",
      "\n",
      "\n",
      "\n",
      "\n",
      "\n",
      "\n",
      "\n",
      "\n",
      "\n",
      "\n",
      "\n",
      "\n",
      "\n",
      "\n",
      "Inicio\n",
      "\n",
      "\n",
      "\n",
      "\n",
      "Temas\n",
      "\n",
      "\n",
      "\n",
      "IA generativa\n",
      "\n",
      "\n",
      "\n",
      " \n",
      "\n",
      "\n",
      "\n",
      " \n",
      " ¿Qué es la IA generativa? \n",
      "\n",
      "\n",
      "\n",
      "\n",
      "\n",
      "\n",
      " \n",
      "\n",
      "\n",
      " \n",
      "\n",
      "\n",
      "\n",
      "\n",
      "Descubra la IA generativa con watsonx.ai\n",
      "\n",
      "\n",
      "Suscríbase para recibir actualizaciones sobre IA\n",
      "\n",
      "\n",
      "\n",
      "\n",
      "\n",
      "\n",
      "\n",
      "\n",
      "\n",
      "\n",
      "\n",
      "\n",
      "\n",
      "\n",
      "\n",
      "\n",
      "\n",
      "\n",
      "\n",
      "\n",
      "\n",
      "\n",
      "\n",
      "\n",
      "\n",
      "\n",
      "\n",
      "\n",
      "\n",
      "\n",
      "\n",
      "\n",
      "\n",
      "\n",
      "\n",
      "\n",
      "\n",
      "Publicado: 22 de marzo de 2024\n",
      "Colaboradores: Cole Stryker, Mark Scapicchio\n",
      "\n",
      "\n",
      "\n",
      "\n",
      "\n",
      "\n",
      "\n",
      "\n",
      "\n",
      "\n",
      " \n",
      "\n",
      "\n",
      "\n",
      " ¿Qué es la IA generativa?\n",
      "\n",
      "\n",
      "\n",
      "\n",
      "\n",
      " \n",
      "\n",
      "\n",
      " \n",
      " \n",
      "\n",
      "\n",
      "\n",
      "\n",
      "La IA generativa, a veces llamada\n"
     ]
    }
   ],
   "source": [
    "print(resultados[1].page_content)"
   ]
  },
  {
   "cell_type": "code",
   "execution_count": null,
   "id": "60704fec-d409-43b4-beaa-55ac5cd862a3",
   "metadata": {},
   "outputs": [],
   "source": [
    "print(resultados[2].page_content)"
   ]
  },
  {
   "cell_type": "code",
   "execution_count": 37,
   "id": "9ab294b0-a38e-4089-812b-6e2cdd892e3b",
   "metadata": {},
   "outputs": [],
   "source": [
    "question2 = \"Que novedades presenta la AI Generativa?\"\n",
    "resultado2 = vectordb.similarity_search(question2,k=5)"
   ]
  },
  {
   "cell_type": "code",
   "execution_count": 38,
   "id": "3de8075b-2844-4e57-a1c5-0db90356ce2b",
   "metadata": {},
   "outputs": [
    {
     "name": "stdout",
     "output_type": "stream",
     "text": [
      "es la IA generativa?\n",
      "\n",
      "\n",
      "\n",
      "\n",
      "\n",
      " \n",
      "\n",
      "\n",
      " \n",
      " \n",
      "\n",
      "\n",
      "\n",
      "\n",
      "La IA generativa, a veces llamada gen AI, es inteligencia artificial (IA) que puede crear contenido original, como texto, imágenes, video, audio o código de software, en respuesta a una instrucción o solicitud de un usuario.\n",
      "\n",
      "\n",
      "\n",
      "\n",
      "\n",
      "\n",
      "La IA generativa se basa en sofisticados modelos de aprendizaje automático llamados modelos de aprendizaje profundo , algoritmos que simulan los procesos de aprendizaje y la toma de decisiones del cerebro humano. Estos modelos\n"
     ]
    }
   ],
   "source": [
    "print(resultado2[0].page_content)"
   ]
  },
  {
   "cell_type": "markdown",
   "id": "6f66ae8c-e0e0-4c4b-b78d-e5d366afb2c7",
   "metadata": {},
   "source": [
    "## Respondiendo la pregunta"
   ]
  },
  {
   "cell_type": "code",
   "execution_count": 39,
   "id": "b36bd707-30ce-4e09-bf38-e92dabe3b784",
   "metadata": {},
   "outputs": [],
   "source": [
    "llm_name = \"gpt-3.5-turbo\""
   ]
  },
  {
   "cell_type": "code",
   "execution_count": 40,
   "id": "7e21d6b7-c75f-4a94-9d41-d11b861f2031",
   "metadata": {},
   "outputs": [],
   "source": [
    "from langchain_openai import ChatOpenAI\n",
    "llm = ChatOpenAI(model_name=llm_name, temperature=0)"
   ]
  },
  {
   "cell_type": "code",
   "execution_count": 41,
   "id": "bb0a228c-be44-485f-b99d-245999a3d08a",
   "metadata": {},
   "outputs": [],
   "source": [
    "# Importamos las cadenas \n",
    "from langchain.chains import RetrievalQA"
   ]
  },
  {
   "cell_type": "code",
   "execution_count": 43,
   "id": "c7032025-d3af-469f-bcc7-1bacf6ba9792",
   "metadata": {},
   "outputs": [],
   "source": [
    "qa_chain =  RetrievalQA.from_chain_type(\n",
    "    llm,\n",
    "    retriever = vectordb.as_retriever()\n",
    "\n",
    ")"
   ]
  },
  {
   "cell_type": "code",
   "execution_count": 45,
   "id": "bec4dc51-ef09-4d1b-b0ab-9be8eeae992c",
   "metadata": {},
   "outputs": [
    {
     "name": "stdout",
     "output_type": "stream",
     "text": [
      "La IA generativa, a veces llamada gen AI, es inteligencia artificial que puede crear contenido original, como texto, imágenes, video, audio o código de software, en respuesta a una instrucción o solicitud de un usuario. Utiliza modelos de aprendizaje profundo para simular procesos de aprendizaje y toma de decisiones similares a los del cerebro humano.\n"
     ]
    }
   ],
   "source": [
    "question = \"Que es la IA generativa?\"\n",
    "result = qa_chain.invoke({\"query\": question})\n",
    "print(result[\"result\"])"
   ]
  },
  {
   "cell_type": "code",
   "execution_count": 46,
   "id": "cd957844-d01b-45ad-a8bb-c4ae21cf4ce2",
   "metadata": {},
   "outputs": [
    {
     "name": "stdout",
     "output_type": "stream",
     "text": [
      "La inteligencia artificial generativa, como ChatGPT, DALL-E, Midjourney y Stable Diffusion, ha presentado novedades en la creación de contenido creativo, análisis de datos, generación de imágenes realistas, edición de video, transferencia de estilo, traducción de imagen a imagen, creación de animaciones a partir de texto, aplicaciones de efectos especiales en video, entre otros. Estas herramientas están revolucionando la forma en que se crea contenido y se toman decisiones, ofreciendo ventajas de productividad y creatividad para personas y organizaciones.\n"
     ]
    }
   ],
   "source": [
    "question2 = \"Que novedades presenta?\"\n",
    "result2 = qa_chain.invoke({\"query\": question2})\n",
    "print(result2[\"result\"])"
   ]
  },
  {
   "cell_type": "code",
   "execution_count": 47,
   "id": "5925afee-0f2d-405d-9c98-0d9b82166cd5",
   "metadata": {},
   "outputs": [
    {
     "name": "stdout",
     "output_type": "stream",
     "text": [
      "No hay información específica en el contexto proporcionado que indique cuál es el mejor modelo de IA generativa. La elección del mejor modelo puede depender de varios factores, como el tipo de aplicación, la precisión requerida, la disponibilidad de datos etiquetados y otros criterios específicos de cada caso.\n"
     ]
    }
   ],
   "source": [
    "question3 = \"Cual es el mejor modelo?\"\n",
    "result3 = qa_chain.invoke({\"query\": question3})\n",
    "print(result3[\"result\"])"
   ]
  },
  {
   "cell_type": "code",
   "execution_count": null,
   "id": "5c590386-bbbc-4fcc-8cb3-e02d50ba1651",
   "metadata": {},
   "outputs": [],
   "source": []
  },
  {
   "cell_type": "code",
   "execution_count": null,
   "id": "4854b2c0-47f6-481c-830d-e36d222afb43",
   "metadata": {},
   "outputs": [],
   "source": []
  }
 ],
 "metadata": {
  "kernelspec": {
   "display_name": "Python 3 (ipykernel)",
   "language": "python",
   "name": "python3"
  },
  "language_info": {
   "codemirror_mode": {
    "name": "ipython",
    "version": 3
   },
   "file_extension": ".py",
   "mimetype": "text/x-python",
   "name": "python",
   "nbconvert_exporter": "python",
   "pygments_lexer": "ipython3",
   "version": "3.11.7"
  }
 },
 "nbformat": 4,
 "nbformat_minor": 5
}
